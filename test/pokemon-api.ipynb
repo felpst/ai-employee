{
 "cells": [
  {
   "cell_type": "code",
   "execution_count": 7,
   "metadata": {},
   "outputs": [],
   "source": [
    "openai_api_key = \"***REMOVED***\"\n",
    "\n",
    "from langchain.chains.api.prompt import API_RESPONSE_PROMPT\n",
    "from langchain.chains import APIChain\n",
    "from langchain.prompts.prompt import PromptTemplate\n",
    "\n",
    "\n",
    "from langchain.llms import OpenAI\n",
    "\n",
    "llm = OpenAI(temperature=0, openai_api_key=openai_api_key)"
   ]
  },
  {
   "cell_type": "code",
   "execution_count": 8,
   "metadata": {},
   "outputs": [],
   "source": [
    "POKEMON_DOCS = \"\"\"API documentation:\n",
    "Endpoint: https://pokeapi.co/api/v2\n",
    "GET /berry/{id or name}/\n",
    "\n",
    "This API is for get pokemon's Berries information.\n",
    "\n",
    "Url parameters table:\n",
    "id or name | string | berries name or id. | required\n",
    "\n",
    "Response schema (JSON object):\n",
    "name | string | required\n",
    "id | integer | required\n",
    "\n",
    "\"\"\"\n",
    "\n",
    "\n",
    "\n",
    "chain_new = APIChain.from_llm_and_api_docs(llm, POKEMON_DOCS, verbose=True)"
   ]
  },
  {
   "cell_type": "code",
   "execution_count": 9,
   "metadata": {},
   "outputs": [
    {
     "name": "stdout",
     "output_type": "stream",
     "text": [
      "\n",
      "\n",
      "\u001b[1m> Entering new APIChain chain...\u001b[0m\n",
      "\u001b[32;1m\u001b[1;3m https://pokeapi.co/api/v2/berry/2\u001b[0m\n",
      "\u001b[33;1m\u001b[1;3m{\"firmness\":{\"name\":\"super-hard\",\"url\":\"https://pokeapi.co/api/v2/berry-firmness/5/\"},\"flavors\":[{\"flavor\":{\"name\":\"spicy\",\"url\":\"https://pokeapi.co/api/v2/berry-flavor/1/\"},\"potency\":0},{\"flavor\":{\"name\":\"dry\",\"url\":\"https://pokeapi.co/api/v2/berry-flavor/2/\"},\"potency\":10},{\"flavor\":{\"name\":\"sweet\",\"url\":\"https://pokeapi.co/api/v2/berry-flavor/3/\"},\"potency\":0},{\"flavor\":{\"name\":\"bitter\",\"url\":\"https://pokeapi.co/api/v2/berry-flavor/4/\"},\"potency\":0},{\"flavor\":{\"name\":\"sour\",\"url\":\"https://pokeapi.co/api/v2/berry-flavor/5/\"},\"potency\":0}],\"growth_time\":3,\"id\":2,\"item\":{\"name\":\"chesto-berry\",\"url\":\"https://pokeapi.co/api/v2/item/127/\"},\"max_harvest\":5,\"name\":\"chesto\",\"natural_gift_power\":60,\"natural_gift_type\":{\"name\":\"water\",\"url\":\"https://pokeapi.co/api/v2/type/11/\"},\"size\":80,\"smoothness\":25,\"soil_dryness\":15}\u001b[0m\n",
      "\n",
      "\u001b[1m> Finished chain.\u001b[0m\n"
     ]
    },
    {
     "data": {
      "text/plain": [
       "' The name of id 2 is Chesto.'"
      ]
     },
     "execution_count": 9,
     "metadata": {},
     "output_type": "execute_result"
    }
   ],
   "source": [
    "chain_new.run('what is name of id 2')"
   ]
  }
 ],
 "metadata": {
  "kernelspec": {
   "display_name": "Python 3",
   "language": "python",
   "name": "python3"
  },
  "language_info": {
   "codemirror_mode": {
    "name": "ipython",
    "version": 3
   },
   "file_extension": ".py",
   "mimetype": "text/x-python",
   "name": "python",
   "nbconvert_exporter": "python",
   "pygments_lexer": "ipython3",
   "version": "3.10.12"
  },
  "orig_nbformat": 4
 },
 "nbformat": 4,
 "nbformat_minor": 2
}
