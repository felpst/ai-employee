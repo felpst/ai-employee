{
 "cells": [
  {
   "cell_type": "code",
   "execution_count": 1,
   "metadata": {},
   "outputs": [],
   "source": [
    "openai_api_key = \"***REMOVED***\"\n",
    "\n",
    "from langchain.tools import OpenAPISpec, APIOperation\n",
    "from langchain.chains import OpenAPIEndpointChain\n",
    "from langchain.requests import Requests\n",
    "from langchain.llms import OpenAI\n"
   ]
  },
  {
   "cell_type": "code",
   "execution_count": 2,
   "metadata": {},
   "outputs": [
    {
     "name": "stderr",
     "output_type": "stream",
     "text": [
      "Attempting to load an OpenAPI 3.0.1 spec.  This may result in degraded performance. Convert your OpenAPI spec to 3.1.* spec for better support.\n"
     ]
    }
   ],
   "source": [
    "spec = OpenAPISpec.from_url(\n",
    "    \"https://www.klarna.com/us/shopping/public/openai/v0/api-docs/\"\n",
    ")\n",
    "\n",
    "operation = APIOperation.from_openapi_spec(spec, \"/public/openai/v0/products\", \"get\")\n",
    "\n",
    "llm = OpenAI(openai_api_key=openai_api_key)  # Load a Language Model"
   ]
  },
  {
   "cell_type": "code",
   "execution_count": 3,
   "metadata": {},
   "outputs": [],
   "source": [
    "chain = OpenAPIEndpointChain.from_api_operation(\n",
    "    operation,\n",
    "    llm,\n",
    "    requests=Requests(),\n",
    "    verbose=True,\n",
    "    return_intermediate_steps=True,  # Return request and response text\n",
    ")"
   ]
  },
  {
   "cell_type": "code",
   "execution_count": 4,
   "metadata": {},
   "outputs": [
    {
     "name": "stderr",
     "output_type": "stream",
     "text": [
      "/home/carlos/.local/lib/python3.10/site-packages/langchain/chains/llm.py:275: UserWarning: The predict_and_parse method is deprecated, instead pass an output parser directly to LLMChain.\n",
      "  warnings.warn(\n"
     ]
    },
    {
     "name": "stdout",
     "output_type": "stream",
     "text": [
      "\n",
      "\n",
      "\u001b[1m> Entering new OpenAPIEndpointChain chain...\u001b[0m\n",
      "\n",
      "\n",
      "\u001b[1m> Entering new APIRequesterChain chain...\u001b[0m\n",
      "Prompt after formatting:\n",
      "\u001b[32;1m\u001b[1;3mYou are a helpful AI Assistant. Please provide JSON arguments to agentFunc() based on the user's instructions.\n",
      "\n",
      "API_SCHEMA: ```typescript\n",
      "/* API for fetching Klarna product information */\n",
      "type productsUsingGET = (_: {\n",
      "/* ISO 3166 country code with 2 characters based on the user location. Currently, only US, GB, DE, SE and DK are supported. */\n",
      "\t\tcountryCode: string,\n",
      "/* A precise query that matches one very small category or product that needs to be searched for to find the products the user is looking for. If the user explicitly stated what they want, use that as a query. The query is as specific as possible to the product name or category mentioned by the user in its singular form, and don't contain any clarifiers like latest, newest, cheapest, budget, premium, expensive or similar. The query is always taken from the latest topic, if there is a new topic a new query is started. If the user speaks another language than English, translate their request into English (example: translate fia med knuff to ludo board game)! */\n",
      "\t\tq: string,\n",
      "/* number of products returned */\n",
      "\t\tsize?: number,\n",
      "/* (Optional) Minimum price in local currency for the product searched for. Either explicitly stated by the user or implicitly inferred from a combination of the user's request and the kind of product searched for. */\n",
      "\t\tmin_price?: number,\n",
      "/* (Optional) Maximum price in local currency for the product searched for. Either explicitly stated by the user or implicitly inferred from a combination of the user's request and the kind of product searched for. */\n",
      "\t\tmax_price?: number,\n",
      "}) => any;\n",
      "```\n",
      "\n",
      "USER_INSTRUCTIONS: \"whats the most expensive shirt?\"\n",
      "\n",
      "Your arguments must be plain json provided in a markdown block:\n",
      "\n",
      "ARGS: ```json\n",
      "{valid json conforming to API_SCHEMA}\n",
      "```\n",
      "\n",
      "Example\n",
      "-----\n",
      "\n",
      "ARGS: ```json\n",
      "{\"foo\": \"bar\", \"baz\": {\"qux\": \"quux\"}}\n",
      "```\n",
      "\n",
      "The block must be no more than 1 line long, and all arguments must be valid JSON. All string arguments must be wrapped in double quotes.\n",
      "You MUST strictly comply to the types indicated by the provided schema, including all required args.\n",
      "\n",
      "If you don't have sufficient information to call the function due to things like requiring specific uuid's, you can reply with the following message:\n",
      "\n",
      "Message: ```text\n",
      "Concise response requesting the additional information that would make calling the function successful.\n",
      "```\n",
      "\n",
      "Begin\n",
      "-----\n",
      "ARGS:\n",
      "\u001b[0m\n",
      "\n",
      "\u001b[1m> Finished chain.\u001b[0m\n",
      "\u001b[32;1m\u001b[1;3m{\"countryCode\": \"US\", \"q\": \"shirt\", \"max_price\": \"null\"}\u001b[0m\n",
      "\u001b[36;1m\u001b[1;3m{\"products\":[{\"name\":\"Burberry SS Check Stretch Cotton Shirt - Archive Beige\",\"url\":\"https://www.klarna.com/us/shopping/pl/cl359/3200280807/Children-s-Clothing/Burberry-SS-Check-Stretch-Cotton-Shirt-Archive-Beige/?utm_source=openai&ref-site=openai_plugin\",\"price\":\"$121.40\",\"attributes\":[\"Material:Cotton,Elastane\",\"Color:Beige\",\"Model:Boy\",\"Pattern:Checkered\",\"Age (Months):24-36M\"]},{\"name\":\"Casablanca Pink Rainbow Monogram Shirt\",\"url\":\"https://www.klarna.com/us/shopping/pl/cl10001/3206894594/Clothing/Casablanca-Pink-Rainbow-Monogram-Shirt/?utm_source=openai&ref-site=openai_plugin\",\"price\":\"$518.00\",\"attributes\":[\"Target Group:Man,Woman\",\"Color:Pink,White,Yellow,Multicolor\",\"Size (Small-Large):S,XL,XS,L,M,XXL\"]},{\"name\":\"Columbia Tamiami II Short-Sleeve Shirt - White\",\"url\":\"https://www.klarna.com/us/shopping/pl/cl10001/3201755912/Clothing/Columbia-Tamiami-II-Short-Sleeve-Shirt-White/?utm_source=openai&ref-site=openai_plugin\",\"price\":\"$26.99\",\"attributes\":[\"Material:Polyester\",\"Target Group:Man\",\"Color:White\",\"Size (Small-Large):S,XL,XS,L,M,XXL\"]},{\"name\":\"Calvin Klein Slim Fit Oxford Dress Shirt\",\"url\":\"https://www.klarna.com/us/shopping/pl/cl10001/3201839169/Clothing/Calvin-Klein-Slim-Fit-Oxford-Dress-Shirt/?utm_source=openai&ref-site=openai_plugin\",\"price\":\"$10.48\",\"attributes\":[\"Material:Cotton\",\"Target Group:Man\",\"Color:Gray,White,Blue,Black\",\"Pattern:Solid Color\",\"Size (Small-Large):L\"]},{\"name\":\"Polo Ralph Lauren Classic Fit Oxford Shirt - Aegean Blue\",\"url\":\"https://www.klarna.com/us/shopping/pl/cl10001/3207300328/Clothing/Polo-Ralph-Lauren-Classic-Fit-Oxford-Shirt-Aegean-Blue/?utm_source=openai&ref-site=openai_plugin\",\"price\":\"$79.99\",\"attributes\":[\"Material:Cotton\",\"Target Group:Man\",\"Color:Blue\",\"Pattern:Solid Color\",\"Size (Small-Large):S,XL,XS,L,M,XXL\"]}]}\u001b[0m\n",
      "\n",
      "\n",
      "\u001b[1m> Entering new APIResponderChain chain...\u001b[0m\n",
      "Prompt after formatting:\n",
      "\u001b[32;1m\u001b[1;3mYou are a helpful AI assistant trained to answer user queries from API responses.\n",
      "You attempted to call an API, which resulted in:\n",
      "API_RESPONSE: {\"products\":[{\"name\":\"Burberry SS Check Stretch Cotton Shirt - Archive Beige\",\"url\":\"https://www.klarna.com/us/shopping/pl/cl359/3200280807/Children-s-Clothing/Burberry-SS-Check-Stretch-Cotton-Shirt-Archive-Beige/?utm_source=openai&ref-site=openai_plugin\",\"price\":\"$121.40\",\"attributes\":[\"Material:Cotton,Elastane\",\"Color:Beige\",\"Model:Boy\",\"Pattern:Checkered\",\"Age (Months):24-36M\"]},{\"name\":\"Casablanca Pink Rainbow Monogram Shirt\",\"url\":\"https://www.klarna.com/us/shopping/pl/cl10001/3206894594/Clothing/Casablanca-Pink-Rainbow-Monogram-Shirt/?utm_source=openai&ref-site=openai_plugin\",\"price\":\"$518.00\",\"attributes\":[\"Target Group:Man,Woman\",\"Color:Pink,White,Yellow,Multicolor\",\"Size (Small-Large):S,XL,XS,L,M,XXL\"]},{\"name\":\"Columbia Tamiami II Short-Sleeve Shirt - White\",\"url\":\"https://www.klarna.com/us/shopping/pl/cl10001/3201755912/Clothing/Columbia-Tamiami-II-Short-Sleeve-Shirt-White/?utm_source=openai&ref-site=openai_plugin\",\"price\":\"$26.99\",\"attributes\":[\"Material:Polyester\",\"Target Group:Man\",\"Color:White\",\"Size (Small-Large):S,XL,XS,L,M,XXL\"]},{\"name\":\"Calvin Klein Slim Fit Oxford Dress Shirt\",\"url\":\"https://www.klarna.com/us/shopping/pl/cl10001/3201839169/Clothing/Calvin-Klein-Slim-Fit-Oxford-Dress-Shirt/?utm_source=openai&ref-site=openai_plugin\",\"price\":\"$10.48\",\"attributes\":[\"Material:Cotton\",\"Target Group:Man\",\"Color:Gray,White,Blue,Black\",\"Pattern:Solid Color\",\"Size (Small-Large):L\"]},{\"name\":\"Polo Ralph Lauren Classic Fit Oxford Shirt - Aegean Blue\",\"url\":\"https://www.klarna.com/us/shopping/pl/cl10001/3207300328/Clothing/Polo-Ralph-Lauren-Classic-Fit-Oxford-Shirt-Aegean-Blue/?utm_source=openai&ref-site=openai_plugin\",\"price\":\"$79.99\",\"attributes\":[\"Material:Cotton\",\"Target Group:Man\",\"Color:Blue\",\"Pattern:Solid Color\",\"Size (Small-Large):S,XL,XS,L,M,XXL\"]}]}\n",
      "\n",
      "USER_COMMENT: \"whats the most expensive shirt?\"\n",
      "\n",
      "\n",
      "If the API_RESPONSE can answer the USER_COMMENT respond with the following markdown json block:\n",
      "Response: ```json\n",
      "{\"response\": \"Human-understandable synthesis of the API_RESPONSE\"}\n",
      "```\n",
      "\n",
      "Otherwise respond with the following markdown json block:\n",
      "Response Error: ```json\n",
      "{\"response\": \"What you did and a concise statement of the resulting error. If it can be easily fixed, provide a suggestion.\"}\n",
      "```\n",
      "\n",
      "You MUST respond as a markdown json code block. The person you are responding to CANNOT see the API_RESPONSE, so if there is any relevant information there you must include it in your response.\n",
      "\n",
      "Begin:\n",
      "---\n",
      "\u001b[0m\n",
      "\n",
      "\u001b[1m> Finished chain.\u001b[0m\n",
      "\u001b[33;1m\u001b[1;3mThe most expensive shirt from the API response is the Casablanca Pink Rainbow Monogram Shirt, which costs $518.00.\u001b[0m\n",
      "\n",
      "\u001b[1m> Finished chain.\u001b[0m\n"
     ]
    }
   ],
   "source": [
    "output = chain(\"whats the most expensive shirt?\")"
   ]
  }
 ],
 "metadata": {
  "kernelspec": {
   "display_name": "Python 3",
   "language": "python",
   "name": "python3"
  },
  "language_info": {
   "codemirror_mode": {
    "name": "ipython",
    "version": 3
   },
   "file_extension": ".py",
   "mimetype": "text/x-python",
   "name": "python",
   "nbconvert_exporter": "python",
   "pygments_lexer": "ipython3",
   "version": "3.10.12"
  },
  "orig_nbformat": 4
 },
 "nbformat": 4,
 "nbformat_minor": 2
}
