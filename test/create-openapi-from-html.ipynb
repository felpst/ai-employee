{
 "cells": [
  {
   "cell_type": "code",
   "execution_count": 55,
   "metadata": {},
   "outputs": [],
   "source": [
    "from langchain.document_loaders import TextLoader\n"
   ]
  },
  {
   "cell_type": "code",
   "execution_count": 56,
   "metadata": {},
   "outputs": [
    {
     "data": {
      "text/plain": [
       "[Document(page_content='<!DOCTYPE html>\\n<html lang=\"en\">\\n  <head>\\n    <meta charset=\"utf-8\" />\\n    <meta\\n      name=\"viewport\"\\n      content=\"width=device-width, initial-scale=1, shrink-to-fit=no\"\\n    />\\n    <link rel=\"stylesheet\" href=\"/style.css\" />\\n    <link\\n      rel=\"stylesheet\"\\n      href=\"https://cdnjs.cloudflare.com/ajax/libs/prism/1.21.0/themes/prism-tomorrow.min.css\"\\n    />\\n    <title>JSONPlaceholder - Guide</title>\\n\\n    <script\\n      async\\n      src=\"https://www.googletagmanager.com/gtag/js?id=G-E3C3GCQVBN\"\\n    ></script>\\n    <script>\\n      window.dataLayer = window.dataLayer || [];\\n      function gtag() {\\n        dataLayer.push(arguments);\\n      }\\n      gtag(\\'js\\', new Date());\\n\\n      gtag(\\'config\\', \\'G-E3C3GCQVBN\\');\\n    </script>\\n    <script\\n      defer\\n      data-domain=\"jsonplaceholder.typicode.com\"\\n      src=\"https://plausible.io/js/script.js\"\\n    ></script>\\n  </head>\\n  <body class=\"px-2\">\\n    <header\\n      class=\"container mx-auto max-w-4xl flex flex-col md:flex-row justify-between py-one mb-three\"\\n    >\\n      <h1>\\n        <a href=\"/\" class=\"font-bold no-underline\">JSONPlaceholder</a>\\n      </h1>\\n      <nav>\\n        <ul class=\"flex\">\\n          <li><a href=\"/guide\" class=\"mr-4 no-underline\">Guide</a></li>\\n          <li>\\n            <a\\n              href=\"https://github.com/sponsors/typicode\"\\n              class=\"mr-4 no-underline\"\\n              >Sponsor this project</a\\n            >\\n          </li>\\n          <li>\\n            <a href=\"https://blog.typicode.com\" class=\"mr-4 no-underline\"\\n              >Blog</a\\n            >\\n          </li>\\n          <li>\\n            <a href=\"https://my-json-server.typicode.com\" class=\"no-underline\"\\n              >My JSON Server</a\\n            >\\n          </li>\\n        </ul>\\n      </nav>\\n    </header>\\n    <div>\\n      <main class=\"container mx-auto max-w-4xl\">\\n        <h2>Guide</h2>\\n        <p>\\n          Below you\\'ll find examples using\\n          <a href=\"https://developer.mozilla.org/en-US/docs/Web/API/Fetch_API\"\\n            >Fetch API</a\\n          >\\n          but you can JSONPlaceholder with any other language.\\n        </p>\\n        <p>\\n          You can copy paste the code in your browser console to quickly test\\n          JSONPlaceholder.\\n        </p>\\n        <div id=\"crbn\"></div>\\n        <h3>Getting a resource</h3>\\n        <pre><code class=\"language-js\">fetch(\\'https://jsonplaceholder.typicode.com/posts/1\\')\\n  .then((response) =&gt; response.json())\\n  .then((json) =&gt; console.log(json));\\n</code></pre>\\n        <p>👇 <em>Output</em></p>\\n        <pre><code class=\"language-js\">{\\n  id: 1,\\n  title: \\'...\\',\\n  body: \\'...\\',\\n  userId: 1\\n}\\n</code></pre>\\n        <h3>Listing all resources</h3>\\n        <pre><code class=\"language-js\">fetch(\\'https://jsonplaceholder.typicode.com/posts\\')\\n  .then((response) =&gt; response.json())\\n  .then((json) =&gt; console.log(json));\\n</code></pre>\\n        <p>👇 <em>Output</em></p>\\n        <pre><code class=\"language-js\">[\\n  { id: 1, title: \\'...\\' /* ... */ },\\n  { id: 2, title: \\'...\\' /* ... */ },\\n  { id: 3, title: \\'...\\' /* ... */ },\\n  /* ... */\\n  { id: 100, title: \\'...\\' /* ... */ },\\n];\\n</code></pre>\\n        \\n\\n    <footer class=\"container mx-auto max-w-4xl mt-four\">\\n      <div class=\"mb-one\">\\n        <a href=\"https://github.com/users/typicode/sponsorship\">\\n          <strong>You can sponsor this project (and others) on GitHub</strong>\\n        </a>\\n      </div>\\n      <div class=\"mb-one\">\\n        Coded and maintained with ❤️ by\\n        <a href=\"https://github.com/typicode\">typicode</a> © 2022\\n      </div>\\n    </footer>\\n    <script src=\"https://cdnjs.cloudflare.com/ajax/libs/prism/1.21.0/prism.min.js\"></script>\\n    <script src=\"/script.js\"></script>\\n    <script\\n      defer\\n      src=\"https://static.cloudflareinsights.com/beacon.min.js/v8b253dfea2ab4077af8c6f58422dfbfd1689876627854\"\\n      integrity=\"sha512-bjgnUKX4azu3dLTVtie9u6TKqgx29RBwfj3QXYt5EKfWM/9hPSAI/4qcV5NACjwAo8UtTeWefx6Zq5PHcMm7Tg==\"\\n      data-cf-beacon=\\'{\"rayId\":\"7f69a11e9dbfda17\",\"version\":\"2023.8.0\",\"r\":1,\"b\":1,\"token\":\"2f059cbf58a24e59854ee0884c97b166\",\"si\":100}\\'\\n      crossorigin=\"anonymous\"\\n    ></script>\\n  </body>\\n</html>\\n', metadata={'source': './website.html'})]"
      ]
     },
     "execution_count": 56,
     "metadata": {},
     "output_type": "execute_result"
    }
   ],
   "source": [
    "loader = TextLoader(\"./website.html\")\n",
    "data = loader.load()\n",
    "data"
   ]
  },
  {
   "cell_type": "code",
   "execution_count": 57,
   "metadata": {},
   "outputs": [],
   "source": [
    "from dotenv import load_dotenv\n",
    "load_dotenv()\n",
    "PINECONE_API_KEY = \"e4280440-c4eb-4c5a-ad49-1d5b93863199\""
   ]
  },
  {
   "cell_type": "code",
   "execution_count": 58,
   "metadata": {},
   "outputs": [],
   "source": [
    "from langchain.chat_models import ChatOpenAI\n",
    "from langchain.chains import create_extraction_chain\n",
    "\n",
    "data_schema = {\n",
    "    \"properties\": {\n",
    "        \"json\": { \"type\": \"string\" },\n",
    "    },\n",
    "    \"required\": [\"json\"]\n",
    "}\n",
    "\n",
    "\n"
   ]
  },
  {
   "cell_type": "code",
   "execution_count": 59,
   "metadata": {},
   "outputs": [],
   "source": [
    "\n",
    "from langchain.embeddings.openai import OpenAIEmbeddings\n",
    "from langchain.text_splitter import CharacterTextSplitter\n",
    "from langchain.vectorstores import Pinecone\n",
    "from langchain.document_loaders import TextLoader\n",
    "import pinecone\n",
    "\n",
    "pinecone.init(\n",
    "    api_key=PINECONE_API_KEY,  # find at app.pinecone.io\n",
    "    environment=\"asia-southeast1-gcp-free\"\n",
    ")\n",
    "\n",
    "index_name = \"test3\""
   ]
  },
  {
   "cell_type": "code",
   "execution_count": 60,
   "metadata": {},
   "outputs": [
    {
     "name": "stdout",
     "output_type": "stream",
     "text": [
      "\n",
      "\n",
      "\u001b[1m> Entering new LLMChain chain...\u001b[0m\n",
      "Prompt after formatting:\n",
      "\u001b[32;1m\u001b[1;3mcreate a open api json for this documentation: [Document(page_content=\"\\n\\n\\n\\n\\n\\nJSONPlaceholder - Guide\\n\\n\\n\\n\\n\\n\\n\\nJSONPlaceholder\\n\\n\\n\\nGuide\\n\\nSponsor this project\\n\\n\\nBlog\\n\\n\\nMy JSON Server\\n\\n\\n\\n\\n\\n\\nGuide\\n\\n          Below you'll find examples using\\n          Fetch API\\n          but you can JSONPlaceholder with any other language.\\n        \\n\\n          You can copy paste the code in your browser console to quickly test\\n          JSONPlaceholder.\\n        \\n\\nGetting a resource\\nfetch('https://jsonplaceholder.typicode.com/posts/1')\\n  .then((response) => response.json())\\n  .then((json) => console.log(json));\\n\\n👇 Output\\n{\\n  id: 1,\\n  title: '...',\\n  body: '...',\\n  userId: 1\\n}\\n\\nListing all resources\\nfetch('https://jsonplaceholder.typicode.com/posts')\\n  .then((response) => response.json())\\n  .then((json) => console.log(json));\\n\\n👇 Output\\n[\\n  { id: 1, title: '...' /* ... */ },\\n  { id: 2, title: '...' /* ... */ },\\n  { id: 3, title: '...' /* ... */ },\\n  /* ... */\\n  { id: 100, title: '...' /* ... */ },\\n];\\n\\n\\n\\n\\nYou can sponsor this project (and others) on GitHub\\n\\n\\n\\n        Coded and maintained with ❤️ by\\n        typicode © 2022\\n      \\n\\n\\n\\n\\n\\n\\n\", metadata={'source': './website.html', 'title': 'JSONPlaceholder - Guide'}), Document(page_content='<!DOCTYPE html>\\n<html lang=\"en\">\\n  <head>\\n    <meta charset=\"utf-8\" />\\n    <meta\\n      name=\"viewport\"\\n      content=\"width=device-width, initial-scale=1, shrink-to-fit=no\"\\n    />\\n    <link rel=\"stylesheet\" href=\"/style.css\" />\\n    <link\\n      rel=\"stylesheet\"\\n      href=\"https://cdnjs.cloudflare.com/ajax/libs/prism/1.21.0/themes/prism-tomorrow.min.css\"\\n    />\\n    <title>JSONPlaceholder - Guide</title>\\n\\n    <script\\n      async\\n      src=\"https://www.googletagmanager.com/gtag/js?id=G-E3C3GCQVBN\"\\n    ></script>\\n    <script>\\n      window.dataLayer = window.dataLayer || [];\\n      function gtag() {\\n        dataLayer.push(arguments);\\n      }\\n      gtag(\\'js\\', new Date());\\n\\n      gtag(\\'config\\', \\'G-E3C3GCQVBN\\');\\n    </script>\\n    <script\\n      defer\\n      data-domain=\"jsonplaceholder.typicode.com\"\\n      src=\"https://plausible.io/js/script.js\"\\n    ></script>\\n  </head>\\n  <body class=\"px-2\">\\n    <header\\n      class=\"container mx-auto max-w-4xl flex flex-col md:flex-row justify-between py-one mb-three\"\\n    >\\n      <h1>\\n        <a href=\"/\" class=\"font-bold no-underline\">JSONPlaceholder</a>\\n      </h1>\\n      <nav>\\n        <ul class=\"flex\">\\n          <li><a href=\"/guide\" class=\"mr-4 no-underline\">Guide</a></li>\\n          <li>\\n            <a\\n              href=\"https://github.com/sponsors/typicode\"\\n              class=\"mr-4 no-underline\"\\n              >Sponsor this project</a\\n            >\\n          </li>\\n          <li>\\n            <a href=\"https://blog.typicode.com\" class=\"mr-4 no-underline\"\\n              >Blog</a\\n            >\\n          </li>\\n          <li>\\n            <a href=\"https://my-json-server.typicode.com\" class=\"no-underline\"\\n              >My JSON Server</a\\n            >\\n          </li>\\n        </ul>\\n      </nav>\\n    </header>\\n    <div>\\n      <main class=\"container mx-auto max-w-4xl\">\\n        <h2>Guide</h2>\\n        <p>\\n          Below you\\'ll find examples using\\n          <a href=\"https://developer.mozilla.org/en-US/docs/Web/API/Fetch_API\"\\n            >Fetch API</a\\n          >\\n          but you can JSONPlaceholder with any other language.\\n        </p>\\n        <p>\\n          You can copy paste the code in your browser console to quickly test\\n          JSONPlaceholder.\\n        </p>\\n        <div id=\"crbn\"></div>\\n        <h3>Getting a resource</h3>\\n        <pre><code class=\"language-js\">fetch(\\'https://jsonplaceholder.typicode.com/posts/1\\')\\n  .then((response) =&gt; response.json())\\n  .then((json) =&gt; console.log(json));\\n</code></pre>\\n        <p>👇 <em>Output</em></p>\\n        <pre><code class=\"language-js\">{\\n  id: 1,\\n  title: \\'...\\',\\n  body: \\'...\\',\\n  userId: 1\\n}\\n</code></pre>\\n        <h3>Listing all resources</h3>\\n        <pre><code class=\"language-js\">fetch(\\'https://jsonplaceholder.typicode.com/posts\\')\\n  .then((response) =&gt; response.json())\\n  .then((json) =&gt; console.log(json));\\n</code></pre>\\n        <p>👇 <em>Output</em></p>\\n        <pre><code class=\"language-js\">[\\n  { id: 1, title: \\'...\\' /* ... */ },\\n  { id: 2, title: \\'...\\' /* ... */ },\\n  { id: 3, title: \\'...\\' /* ... */ },\\n  /* ... */\\n  { id: 100, title: \\'...\\' /* ... */ },\\n];\\n</code></pre>\\n        \\n\\n    <footer class=\"container mx-auto max-w-4xl mt-four\">\\n      <div class=\"mb-one\">\\n        <a href=\"https://github.com/users/typicode/sponsorship\">\\n          <strong>You can sponsor this project (and others) on GitHub</strong>\\n        </a>\\n      </div>\\n      <div class=\"mb-one\">\\n        Coded and maintained with ❤️ by\\n        <a href=\"https://github.com/typicode\">typicode</a> © 2022\\n      </div>\\n    </footer>\\n    <script src=\"https://cdnjs.cloudflare.com/ajax/libs/prism/1.21.0/prism.min.js\"></script>\\n    <script src=\"/script.js\"></script>\\n    <script\\n      defer\\n      src=\"https://static.cloudflareinsights.com/beacon.min.js/v8b253dfea2ab4077af8c6f58422dfbfd1689876627854\"\\n      integrity=\"sha512-bjgnUKX4azu3dLTVtie9u6TKqgx29RBwfj3QXYt5EKfWM/9hPSAI/4qcV5NACjwAo8UtTeWefx6Zq5PHcMm7Tg==\"\\n      data-cf-beacon=\\'{\"rayId\":\"7f69a11e9dbfda17\",\"version\":\"2023.8.0\",\"r\":1,\"b\":1,\"token\":\"2f059cbf58a24e59854ee0884c97b166\",\"si\":100}\\'\\n      crossorigin=\"anonymous\"\\n    ></script>\\n  </body>\\n</html>\\n', metadata={'source': './website.html'}), Document(page_content=\"\\n\\n\\n\\n\\n\\nJSONPlaceholder - Guide\\n\\n\\n\\n\\n\\n\\n\\nJSONPlaceholder\\n\\n\\n\\nGuide\\n\\nSponsor this project\\n\\n\\nBlog\\n\\n\\nMy JSON Server\\n\\n\\n\\n\\n\\n\\nGuide\\n\\n          Below you'll find examples using\\n          Fetch API\\n          but you can JSONPlaceholder with any other language.\\n        \\n\\n          You can copy paste the code in your browser console to quickly test\\n          JSONPlaceholder.\\n        \\n\\nGetting a resource\\nfetch('https://jsonplaceholder.typicode.com/posts/1')\\n  .then((response) => response.json())\\n  .then((json) => console.log(json));\\n\\n👇 Output\\n{\\n  id: 1,\\n  title: '...',\\n  body: '...',\\n  userId: 1\\n}\\n\\nListing all resources\\nfetch('https://jsonplaceholder.typicode.com/posts')\\n  .then((response) => response.json())\\n  .then((json) => console.log(json));\\n\\n👇 Output\\n[\\n  { id: 1, title: '...' /* ... */ },\\n  { id: 2, title: '...' /* ... */ },\\n  { id: 3, title: '...' /* ... */ },\\n  /* ... */\\n  { id: 100, title: '...' /* ... */ },\\n];\\n\\nCreating a resource\\nfetch('https://jsonplaceholder.typicode.com/posts', {\\n  method: 'POST',\\n  body: JSON.stringify({\\n    title: 'foo',\\n    body: 'bar',\\n    userId: 1,\\n  }),\\n  headers: {\\n    'Content-type': 'application/json; charset=UTF-8',\\n  },\\n})\\n  .then((response) => response.json())\\n  .then((json) => console.log(json));\\n\\n👇 Output\\n{\\n  id: 101,\\n  title: 'foo',\\n  body: 'bar',\\n  userId: 1\\n}\\n\\n\\nImportant: resource will not be really updated on the\\n          server but it will be faked as if.\\n        \\nUpdating a resource\\nfetch('https://jsonplaceholder.typicode.com/posts/1', {\\n  method: 'PUT',\\n  body: JSON.stringify({\\n    id: 1,\\n    title: 'foo',\\n    body: 'bar',\\n    userId: 1,\\n  }),\\n  headers: {\\n    'Content-type': 'application/json; charset=UTF-8',\\n  },\\n})\\n  .then((response) => response.json())\\n  .then((json) => console.log(json));\\n\\n👇 Output\\n{\\n  id: 1,\\n  title: 'foo',\\n  body: 'bar',\\n  userId: 1\\n}\\n\\nFiltering resources\\nBasic filtering is supported through query parameters.\\n// This will return all the posts that belong to the first user\\nfetch('https://jsonplaceholder.typicode.com/posts?userId=1')\\n  .then((response) => response.json())\\n  .then((json) => console.log(json));\\n\\nListing nested resources\\nOne level of nested route is available.\\n// This is equivalent to /comments?postId=1\\nfetch('https://jsonplaceholder.typicode.com/posts/1/comments')\\n  .then((response) => response.json())\\n  .then((json) => console.log(json));\\n\\nThe available nested routes are:\\n\\n/posts/1/comments\\n/albums/1/photos\\n/users/1/albums\\n/users/1/todos\\n/users/1/posts\\n\\n\\n\\n\\n\\n\\nYou can sponsor this project (and others) on GitHub\\n\\n\\n\\n        Coded and maintained with ❤️ by\\n        typicode © 2022\\n      \\n\\n\\n\\n\\n\\n\\n\", metadata={'source': './website.html', 'title': 'JSONPlaceholder - Guide'}), Document(page_content=\"\\n\\n\\n\\n\\n\\nJSONPlaceholder - Guide\\n\\n\\n\\n\\n\\n\\n\\nJSONPlaceholder\\n\\n\\n\\nGuide\\n\\nSponsor this project\\n\\n\\nBlog\\n\\n\\nMy JSON Server\\n\\n\\n\\n\\n\\n\\nGuide\\n\\n          Below you'll find examples using\\n          Fetch API\\n          but you can JSONPlaceholder with any other language.\\n        \\n\\n          You can copy paste the code in your browser console to quickly test\\n          JSONPlaceholder.\\n        \\n\\nGetting a resource\\nfetch('https://jsonplaceholder.typicode.com/posts/1')\\n  .then((response) => response.json())\\n  .then((json) => console.log(json));\\n\\n👇 Output\\n{\\n  id: 1,\\n  title: '...',\\n  body: '...',\\n  userId: 1\\n}\\n\\nListing all resources\\nfetch('https://jsonplaceholder.typicode.com/posts')\\n  .then((response) => response.json())\\n  .then((json) => console.log(json));\\n\\n👇 Output\\n[\\n  { id: 1, title: '...' /* ... */ },\\n  { id: 2, title: '...' /* ... */ },\\n  { id: 3, title: '...' /* ... */ },\\n  /* ... */\\n  { id: 100, title: '...' /* ... */ },\\n];\\n\\n\\n\\n\\nYou can sponsor this project (and others) on GitHub\\n\\n\\n\\n        Coded and maintained with ❤️ by\\n        typicode © 2022\\n      \\n\\n\\n\\n\\n\\n\\n\", metadata={'source': './website.html', 'title': 'JSONPlaceholder - Guide'})]\u001b[0m\n",
      "\n",
      "\u001b[1m> Finished chain.\u001b[0m\n",
      "{'input': [Document(page_content=\"\\n\\n\\n\\n\\n\\nJSONPlaceholder - Guide\\n\\n\\n\\n\\n\\n\\n\\nJSONPlaceholder\\n\\n\\n\\nGuide\\n\\nSponsor this project\\n\\n\\nBlog\\n\\n\\nMy JSON Server\\n\\n\\n\\n\\n\\n\\nGuide\\n\\n          Below you'll find examples using\\n          Fetch API\\n          but you can JSONPlaceholder with any other language.\\n        \\n\\n          You can copy paste the code in your browser console to quickly test\\n          JSONPlaceholder.\\n        \\n\\nGetting a resource\\nfetch('https://jsonplaceholder.typicode.com/posts/1')\\n  .then((response) => response.json())\\n  .then((json) => console.log(json));\\n\\n👇 Output\\n{\\n  id: 1,\\n  title: '...',\\n  body: '...',\\n  userId: 1\\n}\\n\\nListing all resources\\nfetch('https://jsonplaceholder.typicode.com/posts')\\n  .then((response) => response.json())\\n  .then((json) => console.log(json));\\n\\n👇 Output\\n[\\n  { id: 1, title: '...' /* ... */ },\\n  { id: 2, title: '...' /* ... */ },\\n  { id: 3, title: '...' /* ... */ },\\n  /* ... */\\n  { id: 100, title: '...' /* ... */ },\\n];\\n\\n\\n\\n\\nYou can sponsor this project (and others) on GitHub\\n\\n\\n\\n        Coded and maintained with ❤️ by\\n        typicode © 2022\\n      \\n\\n\\n\\n\\n\\n\\n\", metadata={'source': './website.html', 'title': 'JSONPlaceholder - Guide'}), Document(page_content='<!DOCTYPE html>\\n<html lang=\"en\">\\n  <head>\\n    <meta charset=\"utf-8\" />\\n    <meta\\n      name=\"viewport\"\\n      content=\"width=device-width, initial-scale=1, shrink-to-fit=no\"\\n    />\\n    <link rel=\"stylesheet\" href=\"/style.css\" />\\n    <link\\n      rel=\"stylesheet\"\\n      href=\"https://cdnjs.cloudflare.com/ajax/libs/prism/1.21.0/themes/prism-tomorrow.min.css\"\\n    />\\n    <title>JSONPlaceholder - Guide</title>\\n\\n    <script\\n      async\\n      src=\"https://www.googletagmanager.com/gtag/js?id=G-E3C3GCQVBN\"\\n    ></script>\\n    <script>\\n      window.dataLayer = window.dataLayer || [];\\n      function gtag() {\\n        dataLayer.push(arguments);\\n      }\\n      gtag(\\'js\\', new Date());\\n\\n      gtag(\\'config\\', \\'G-E3C3GCQVBN\\');\\n    </script>\\n    <script\\n      defer\\n      data-domain=\"jsonplaceholder.typicode.com\"\\n      src=\"https://plausible.io/js/script.js\"\\n    ></script>\\n  </head>\\n  <body class=\"px-2\">\\n    <header\\n      class=\"container mx-auto max-w-4xl flex flex-col md:flex-row justify-between py-one mb-three\"\\n    >\\n      <h1>\\n        <a href=\"/\" class=\"font-bold no-underline\">JSONPlaceholder</a>\\n      </h1>\\n      <nav>\\n        <ul class=\"flex\">\\n          <li><a href=\"/guide\" class=\"mr-4 no-underline\">Guide</a></li>\\n          <li>\\n            <a\\n              href=\"https://github.com/sponsors/typicode\"\\n              class=\"mr-4 no-underline\"\\n              >Sponsor this project</a\\n            >\\n          </li>\\n          <li>\\n            <a href=\"https://blog.typicode.com\" class=\"mr-4 no-underline\"\\n              >Blog</a\\n            >\\n          </li>\\n          <li>\\n            <a href=\"https://my-json-server.typicode.com\" class=\"no-underline\"\\n              >My JSON Server</a\\n            >\\n          </li>\\n        </ul>\\n      </nav>\\n    </header>\\n    <div>\\n      <main class=\"container mx-auto max-w-4xl\">\\n        <h2>Guide</h2>\\n        <p>\\n          Below you\\'ll find examples using\\n          <a href=\"https://developer.mozilla.org/en-US/docs/Web/API/Fetch_API\"\\n            >Fetch API</a\\n          >\\n          but you can JSONPlaceholder with any other language.\\n        </p>\\n        <p>\\n          You can copy paste the code in your browser console to quickly test\\n          JSONPlaceholder.\\n        </p>\\n        <div id=\"crbn\"></div>\\n        <h3>Getting a resource</h3>\\n        <pre><code class=\"language-js\">fetch(\\'https://jsonplaceholder.typicode.com/posts/1\\')\\n  .then((response) =&gt; response.json())\\n  .then((json) =&gt; console.log(json));\\n</code></pre>\\n        <p>👇 <em>Output</em></p>\\n        <pre><code class=\"language-js\">{\\n  id: 1,\\n  title: \\'...\\',\\n  body: \\'...\\',\\n  userId: 1\\n}\\n</code></pre>\\n        <h3>Listing all resources</h3>\\n        <pre><code class=\"language-js\">fetch(\\'https://jsonplaceholder.typicode.com/posts\\')\\n  .then((response) =&gt; response.json())\\n  .then((json) =&gt; console.log(json));\\n</code></pre>\\n        <p>👇 <em>Output</em></p>\\n        <pre><code class=\"language-js\">[\\n  { id: 1, title: \\'...\\' /* ... */ },\\n  { id: 2, title: \\'...\\' /* ... */ },\\n  { id: 3, title: \\'...\\' /* ... */ },\\n  /* ... */\\n  { id: 100, title: \\'...\\' /* ... */ },\\n];\\n</code></pre>\\n        \\n\\n    <footer class=\"container mx-auto max-w-4xl mt-four\">\\n      <div class=\"mb-one\">\\n        <a href=\"https://github.com/users/typicode/sponsorship\">\\n          <strong>You can sponsor this project (and others) on GitHub</strong>\\n        </a>\\n      </div>\\n      <div class=\"mb-one\">\\n        Coded and maintained with ❤️ by\\n        <a href=\"https://github.com/typicode\">typicode</a> © 2022\\n      </div>\\n    </footer>\\n    <script src=\"https://cdnjs.cloudflare.com/ajax/libs/prism/1.21.0/prism.min.js\"></script>\\n    <script src=\"/script.js\"></script>\\n    <script\\n      defer\\n      src=\"https://static.cloudflareinsights.com/beacon.min.js/v8b253dfea2ab4077af8c6f58422dfbfd1689876627854\"\\n      integrity=\"sha512-bjgnUKX4azu3dLTVtie9u6TKqgx29RBwfj3QXYt5EKfWM/9hPSAI/4qcV5NACjwAo8UtTeWefx6Zq5PHcMm7Tg==\"\\n      data-cf-beacon=\\'{\"rayId\":\"7f69a11e9dbfda17\",\"version\":\"2023.8.0\",\"r\":1,\"b\":1,\"token\":\"2f059cbf58a24e59854ee0884c97b166\",\"si\":100}\\'\\n      crossorigin=\"anonymous\"\\n    ></script>\\n  </body>\\n</html>\\n', metadata={'source': './website.html'}), Document(page_content=\"\\n\\n\\n\\n\\n\\nJSONPlaceholder - Guide\\n\\n\\n\\n\\n\\n\\n\\nJSONPlaceholder\\n\\n\\n\\nGuide\\n\\nSponsor this project\\n\\n\\nBlog\\n\\n\\nMy JSON Server\\n\\n\\n\\n\\n\\n\\nGuide\\n\\n          Below you'll find examples using\\n          Fetch API\\n          but you can JSONPlaceholder with any other language.\\n        \\n\\n          You can copy paste the code in your browser console to quickly test\\n          JSONPlaceholder.\\n        \\n\\nGetting a resource\\nfetch('https://jsonplaceholder.typicode.com/posts/1')\\n  .then((response) => response.json())\\n  .then((json) => console.log(json));\\n\\n👇 Output\\n{\\n  id: 1,\\n  title: '...',\\n  body: '...',\\n  userId: 1\\n}\\n\\nListing all resources\\nfetch('https://jsonplaceholder.typicode.com/posts')\\n  .then((response) => response.json())\\n  .then((json) => console.log(json));\\n\\n👇 Output\\n[\\n  { id: 1, title: '...' /* ... */ },\\n  { id: 2, title: '...' /* ... */ },\\n  { id: 3, title: '...' /* ... */ },\\n  /* ... */\\n  { id: 100, title: '...' /* ... */ },\\n];\\n\\nCreating a resource\\nfetch('https://jsonplaceholder.typicode.com/posts', {\\n  method: 'POST',\\n  body: JSON.stringify({\\n    title: 'foo',\\n    body: 'bar',\\n    userId: 1,\\n  }),\\n  headers: {\\n    'Content-type': 'application/json; charset=UTF-8',\\n  },\\n})\\n  .then((response) => response.json())\\n  .then((json) => console.log(json));\\n\\n👇 Output\\n{\\n  id: 101,\\n  title: 'foo',\\n  body: 'bar',\\n  userId: 1\\n}\\n\\n\\nImportant: resource will not be really updated on the\\n          server but it will be faked as if.\\n        \\nUpdating a resource\\nfetch('https://jsonplaceholder.typicode.com/posts/1', {\\n  method: 'PUT',\\n  body: JSON.stringify({\\n    id: 1,\\n    title: 'foo',\\n    body: 'bar',\\n    userId: 1,\\n  }),\\n  headers: {\\n    'Content-type': 'application/json; charset=UTF-8',\\n  },\\n})\\n  .then((response) => response.json())\\n  .then((json) => console.log(json));\\n\\n👇 Output\\n{\\n  id: 1,\\n  title: 'foo',\\n  body: 'bar',\\n  userId: 1\\n}\\n\\nFiltering resources\\nBasic filtering is supported through query parameters.\\n// This will return all the posts that belong to the first user\\nfetch('https://jsonplaceholder.typicode.com/posts?userId=1')\\n  .then((response) => response.json())\\n  .then((json) => console.log(json));\\n\\nListing nested resources\\nOne level of nested route is available.\\n// This is equivalent to /comments?postId=1\\nfetch('https://jsonplaceholder.typicode.com/posts/1/comments')\\n  .then((response) => response.json())\\n  .then((json) => console.log(json));\\n\\nThe available nested routes are:\\n\\n/posts/1/comments\\n/albums/1/photos\\n/users/1/albums\\n/users/1/todos\\n/users/1/posts\\n\\n\\n\\n\\n\\n\\nYou can sponsor this project (and others) on GitHub\\n\\n\\n\\n        Coded and maintained with ❤️ by\\n        typicode © 2022\\n      \\n\\n\\n\\n\\n\\n\\n\", metadata={'source': './website.html', 'title': 'JSONPlaceholder - Guide'}), Document(page_content=\"\\n\\n\\n\\n\\n\\nJSONPlaceholder - Guide\\n\\n\\n\\n\\n\\n\\n\\nJSONPlaceholder\\n\\n\\n\\nGuide\\n\\nSponsor this project\\n\\n\\nBlog\\n\\n\\nMy JSON Server\\n\\n\\n\\n\\n\\n\\nGuide\\n\\n          Below you'll find examples using\\n          Fetch API\\n          but you can JSONPlaceholder with any other language.\\n        \\n\\n          You can copy paste the code in your browser console to quickly test\\n          JSONPlaceholder.\\n        \\n\\nGetting a resource\\nfetch('https://jsonplaceholder.typicode.com/posts/1')\\n  .then((response) => response.json())\\n  .then((json) => console.log(json));\\n\\n👇 Output\\n{\\n  id: 1,\\n  title: '...',\\n  body: '...',\\n  userId: 1\\n}\\n\\nListing all resources\\nfetch('https://jsonplaceholder.typicode.com/posts')\\n  .then((response) => response.json())\\n  .then((json) => console.log(json));\\n\\n👇 Output\\n[\\n  { id: 1, title: '...' /* ... */ },\\n  { id: 2, title: '...' /* ... */ },\\n  { id: 3, title: '...' /* ... */ },\\n  /* ... */\\n  { id: 100, title: '...' /* ... */ },\\n];\\n\\n\\n\\n\\nYou can sponsor this project (and others) on GitHub\\n\\n\\n\\n        Coded and maintained with ❤️ by\\n        typicode © 2022\\n      \\n\\n\\n\\n\\n\\n\\n\", metadata={'source': './website.html', 'title': 'JSONPlaceholder - Guide'})], 'text': '\\n\\n{\\n    \"openapi\": \"3.0.0\",\\n    \"info\": {\\n        \"title\": \"JSONPlaceholder - Guide\",\\n        \"version\": \"1.0.0\"\\n    },\\n    \"paths\": {\\n        \"/posts/1\": {\\n            \"get\": {\\n                \"summary\": \"Getting a resource\",\\n                \"description\": \"fetch(\\'https://jsonplaceholder.typicode.com/posts/1\\')\\\\n  .then((response) => response.json())\\\\n  .then((json) => console.log(json));\\\\n\\\\n👇 Output\\\\n{\\\\n  id: 1,\\\\n  title: \\'...\\',\\\\n  body: \\'...\\',\\\\n  userId: 1\\\\n}\",\\n                \"responses\": {\\n                    \"200\": {\\n                        \"description\": \"Successful response\",\\n                        \"content\": {\\n                            \"application/json\": {\\n                                \"schema\": {\\n                                    \"type\": \"object\",\\n                                    \"properties\": {\\n                                        \"id\": {\\n                                            \"type\": \"integer\"\\n'}\n"
     ]
    }
   ],
   "source": [
    "from langchain import PromptTemplate, OpenAI, LLMChain\n",
    "\n",
    "def data_extract(input):\n",
    "    prompt_template = \"create a open api json for this documentation: {input}\"\n",
    "    llm = OpenAI(temperature=0)\n",
    "    llm_chain = LLMChain(llm=llm, prompt=PromptTemplate.from_template(prompt_template), verbose=True)\n",
    "    return llm_chain(input)\n",
    "\n",
    "vector_store = Pinecone.from_documents(data, OpenAIEmbeddings(), index_name=index_name)\n",
    "\n",
    "retriever = vector_store.as_retriever(search_type=\"mmr\")\n",
    "\n",
    "query = \"find all request\"\n",
    "\n",
    "res = retriever.get_relevant_documents(query)\n",
    "\n",
    "extract = data_extract(res)\n",
    "print(extract)"
   ]
  }
 ],
 "metadata": {
  "kernelspec": {
   "display_name": "Python 3",
   "language": "python",
   "name": "python3"
  },
  "language_info": {
   "codemirror_mode": {
    "name": "ipython",
    "version": 3
   },
   "file_extension": ".py",
   "mimetype": "text/x-python",
   "name": "python",
   "nbconvert_exporter": "python",
   "pygments_lexer": "ipython3",
   "version": "3.10.12"
  },
  "orig_nbformat": 4
 },
 "nbformat": 4,
 "nbformat_minor": 2
}
