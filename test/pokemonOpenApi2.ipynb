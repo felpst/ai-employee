{
 "cells": [
  {
   "cell_type": "code",
   "execution_count": 23,
   "metadata": {},
   "outputs": [],
   "source": [
    "from dotenv import load_dotenv\n",
    "load_dotenv()\n",
    "\n",
    "from langchain.chains.openai_functions.openapi import get_openapi_chain\n",
    "\n",
    "\n",
    "from langchain.tools import OpenAPISpec, APIOperation\n",
    "from langchain.chains import OpenAPIEndpointChain\n",
    "from langchain.requests import Requests\n",
    "from langchain.llms import OpenAI\n"
   ]
  },
  {
   "cell_type": "code",
   "execution_count": 24,
   "metadata": {},
   "outputs": [
    {
     "name": "stderr",
     "output_type": "stream",
     "text": [
      "Attempting to load an OpenAPI 3.0.0 spec.  This may result in degraded performance. Convert your OpenAPI spec to 3.1.* spec for better support.\n"
     ]
    },
    {
     "data": {
      "text/plain": [
       "{'descriptions': [{'description': 'きが\\u3000つよい',\n",
       "   'language': {'name': 'ja-Hrkt',\n",
       "    'url': 'https://pokeapi.co/api/v2/language/1/'}},\n",
       "  {'description': '기가 센 성격임',\n",
       "   'language': {'name': 'ko', 'url': 'https://pokeapi.co/api/v2/language/3/'}},\n",
       "  {'description': '性格強勢',\n",
       "   'language': {'name': 'zh-Hant',\n",
       "    'url': 'https://pokeapi.co/api/v2/language/4/'}},\n",
       "  {'description': 'Il est très volontaire',\n",
       "   'language': {'name': 'fr', 'url': 'https://pokeapi.co/api/v2/language/5/'}},\n",
       "  {'description': 'Besitzt einen starken Willen',\n",
       "   'language': {'name': 'de', 'url': 'https://pokeapi.co/api/v2/language/6/'}},\n",
       "  {'description': 'Se distingue por su gran fuerza de voluntad',\n",
       "   'language': {'name': 'es', 'url': 'https://pokeapi.co/api/v2/language/7/'}},\n",
       "  {'description': 'Sa il fatto suo',\n",
       "   'language': {'name': 'it', 'url': 'https://pokeapi.co/api/v2/language/8/'}},\n",
       "  {'description': 'Strong willed',\n",
       "   'language': {'name': 'en', 'url': 'https://pokeapi.co/api/v2/language/9/'}},\n",
       "  {'description': '気が\\u3000強い',\n",
       "   'language': {'name': 'ja',\n",
       "    'url': 'https://pokeapi.co/api/v2/language/11/'}},\n",
       "  {'description': '性格强势',\n",
       "   'language': {'name': 'zh-Hans',\n",
       "    'url': 'https://pokeapi.co/api/v2/language/12/'}}],\n",
       " 'gene_modulo': 0,\n",
       " 'highest_stat': {'name': 'special-defense',\n",
       "  'url': 'https://pokeapi.co/api/v2/stat/5/'},\n",
       " 'id': 5,\n",
       " 'possible_values': [0, 5, 10, 15, 20, 25, 30]}"
      ]
     },
     "execution_count": 24,
     "metadata": {},
     "output_type": "execute_result"
    }
   ],
   "source": [
    "chain = get_openapi_chain(\n",
    "    \"./berries-open-api.json\",\n",
    ")\n",
    "# operation = APIOperation.from_openapi_spec(spec, \"\"\"/api/v2/berry/{id_or_name}\"\"\", \"get\")\n",
    "#chain.run(\"what are all flavors of id 5\")\n",
    "chain.run(\"what are characteristic of id 5\")\n",
    "\n"
   ]
  }
 ],
 "metadata": {
  "kernelspec": {
   "display_name": "Python 3",
   "language": "python",
   "name": "python3"
  },
  "language_info": {
   "codemirror_mode": {
    "name": "ipython",
    "version": 3
   },
   "file_extension": ".py",
   "mimetype": "text/x-python",
   "name": "python",
   "nbconvert_exporter": "python",
   "pygments_lexer": "ipython3",
   "version": "3.10.12"
  },
  "orig_nbformat": 4
 },
 "nbformat": 4,
 "nbformat_minor": 2
}
