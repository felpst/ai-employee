{
 "cells": [
  {
   "cell_type": "code",
   "execution_count": 7,
   "metadata": {},
   "outputs": [
    {
     "data": {
      "text/plain": [
       "True"
      ]
     },
     "execution_count": 7,
     "metadata": {},
     "output_type": "execute_result"
    }
   ],
   "source": [
    "import os\n",
    "import pandas as pd\n",
    "from transformers import GPT2TokenizerFast\n",
    "from langchain.document_loaders import PyPDFLoader\n",
    "from langchain.text_splitter import RecursiveCharacterTextSplitter\n",
    "from langchain.embeddings import OpenAIEmbeddings\n",
    "from langchain.vectorstores import FAISS\n",
    "from langchain.chains.question_answering import load_qa_chain\n",
    "from langchain.llms import OpenAI\n",
    "from langchain.chains import ConversationalRetrievalChain\n",
    "\n",
    "from dotenv import load_dotenv\n",
    "load_dotenv()"
   ]
  },
  {
   "cell_type": "code",
   "execution_count": 8,
   "metadata": {},
   "outputs": [
    {
     "name": "stderr",
     "output_type": "stream",
     "text": [
      "Downloading (…)olve/main/vocab.json: 100%|██████████| 1.04M/1.04M [00:00<00:00, 3.02MB/s]\n",
      "Downloading (…)olve/main/merges.txt: 100%|██████████| 456k/456k [00:00<00:00, 1.37MB/s]\n",
      "Downloading (…)/main/tokenizer.json: 100%|██████████| 1.36M/1.36M [00:00<00:00, 2.41MB/s]\n",
      "Downloading (…)lve/main/config.json: 100%|██████████| 665/665 [00:00<00:00, 495kB/s]\n"
     ]
    }
   ],
   "source": [
    "import textract\n",
    "\n",
    "doc = textract.process(\"./Arquivo.pdf\")\n",
    "\n",
    "with open('Arquivo.txt', 'w', encoding=\"UTF-8\") as f:\n",
    "    f.write(doc.decode('utf-8'))\n",
    "\n",
    "with open('Arquivo.txt', 'r', encoding=\"UTF-8\") as f:\n",
    "    text = f.read()\n",
    "\n",
    "tokenizer = GPT2TokenizerFast.from_pretrained(\"gpt2\")\n",
    "\n",
    "def count_tokens(text):\n",
    "    return len(tokenizer.encode(text))\n",
    "\n",
    "text_splitter = RecursiveCharacterTextSplitter(\n",
    "    chunk_size = 512,\n",
    "    chunk_overlap = 24,\n",
    "    length_function = count_tokens,\n",
    ") \n",
    "\n",
    "chunks = text_splitter.create_documents([text])"
   ]
  },
  {
   "cell_type": "code",
   "execution_count": 9,
   "metadata": {},
   "outputs": [],
   "source": [
    "embeddings = OpenAIEmbeddings(model=\"text-embedding-ada-002\")\n",
    "\n",
    "db = FAISS.from_documents(chunks, embeddings)"
   ]
  },
  {
   "cell_type": "code",
   "execution_count": 14,
   "metadata": {},
   "outputs": [
    {
     "data": {
      "text/plain": [
       "Document(page_content='JAVASCRIPT:\\nBEST PRACTICE\\n\\nCLEAN, MAINTAINABLE, PERFORMANT CODE\\n\\n\\x0cii\\n\\nJavaScript: Best Practice\\n\\nJavaScript: Best Practice\\nCopyright © 2018 SitePoint Pty. Ltd.\\n\\nProduct Manager: Simon Mackie\\nEnglish Editor: Ralph Mason\\nProject Editor: James Hibbard\\nCover Designer: Alex Walker\\n\\nNotice of Rights\\nAll rights reserved. No part of this book may be reproduced, stored in a retrieval\\nsystem or transmitted in any form or by any means, without the prior written\\npermission of the publisher, except in the case of brief quotations embodied in\\ncritical articles or reviews.\\n\\nNotice of Liability\\nThe author and publisher have made every effort to ensure the accuracy of the\\ninformation herein. However, the information contained in this book is sold\\nwithout warranty, either express or implied. Neither the authors and SitePoint\\nPty. Ltd., nor its dealers or distributors will be held liable for any damages to be\\ncaused either directly or indirectly by the instructions contained in this book, or\\nby the software or hardware products described herein.\\n\\nTrademark Notice\\nRather than indicating every occurrence of a trademarked name as such, this\\nbook uses the names only in an editorial fashion and to the benefit of the\\ntrademark owner with no intention of infringement of the trademark.\\n\\n\\x0cJavaScript: Best Practice iii\\n\\nPublished by SitePoint Pty. Ltd.\\n\\n48 Cambridge Street Collingwood\\n\\nVIC Australia 3066\\n\\nWeb: www.sitepoint.com\\n\\nEmail: books@sitepoint.com\\n\\nPrinted and bound in the United States of America\\n\\nAbout SitePoint\\nSitePoint specializes in publishing fun, practical, and easy-to-understand content\\nfor web professionals. Visit http://www.sitepoint.com/ to access our blogs,\\nbooks, newsletters, articles, and community forums. You’ll find a stack of\\ninformation on JavaScript, PHP, Ruby, mobile development, design, and more.\\n\\n\\x0civ JavaScript: Best Practice\\n\\nTable of Contents\\n\\nPreface ........................................................................................................................viii\\n\\nWho Should Read This Book? ................................................................................... viii\\n\\nConventions Used ........................................................................................................... viii\\n\\nChapter 1: The Anatomy of a Modern JavaScript\\n\\nApplication .............................................................................................................. 11', metadata={})"
      ]
     },
     "execution_count": 14,
     "metadata": {},
     "output_type": "execute_result"
    }
   ],
   "source": [
    "query = \"best practices to write function in javascript?\"\n",
    "docs = db.similarity_search(query)\n",
    "docs[0]"
   ]
  },
  {
   "cell_type": "code",
   "execution_count": 15,
   "metadata": {},
   "outputs": [
    {
     "data": {
      "text/plain": [
       "' The best practices for writing functions in JavaScript include using const to define variables that cannot be rebound to new values, using arrow functions to provide a cleaner syntax for declaring anonymous functions, and using improved class syntax to emulate classical object-orientation with prototypes.'"
      ]
     },
     "execution_count": 15,
     "metadata": {},
     "output_type": "execute_result"
    }
   ],
   "source": [
    "chain = load_qa_chain(OpenAI(temperature=0), chain_type=\"stuff\")\n",
    "\n",
    "chain.run(input_documents=docs, question=query)"
   ]
  }
 ],
 "metadata": {
  "kernelspec": {
   "display_name": "Python 3",
   "language": "python",
   "name": "python3"
  },
  "language_info": {
   "codemirror_mode": {
    "name": "ipython",
    "version": 3
   },
   "file_extension": ".py",
   "mimetype": "text/x-python",
   "name": "python",
   "nbconvert_exporter": "python",
   "pygments_lexer": "ipython3",
   "version": "3.10.12"
  },
  "orig_nbformat": 4
 },
 "nbformat": 4,
 "nbformat_minor": 2
}
