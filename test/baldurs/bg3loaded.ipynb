{
 "cells": [
  {
   "cell_type": "code",
   "execution_count": 8,
   "metadata": {},
   "outputs": [
    {
     "data": {
      "text/plain": [
       "True"
      ]
     },
     "execution_count": 8,
     "metadata": {},
     "output_type": "execute_result"
    }
   ],
   "source": [
    "import os\n",
    "import pickle\n",
    "import pandas as pd\n",
    "from transformers import GPT2TokenizerFast\n",
    "from langchain.text_splitter import RecursiveCharacterTextSplitter\n",
    "from langchain.embeddings import OpenAIEmbeddings\n",
    "from langchain.vectorstores import FAISS\n",
    "from langchain.chains.question_answering import load_qa_chain\n",
    "from langchain.llms import OpenAI\n",
    "from langchain.chat_models import ChatOpenAI\n",
    "\n",
    "from dotenv import load_dotenv\n",
    "load_dotenv()"
   ]
  },
  {
   "cell_type": "code",
   "execution_count": 2,
   "metadata": {},
   "outputs": [],
   "source": [
    "# Load the embeddings from a file\n",
    "with open(\"embeddings.pkl\", \"rb\") as f:\n",
    "    db = pickle.load(f)"
   ]
  },
  {
   "cell_type": "code",
   "execution_count": 5,
   "metadata": {},
   "outputs": [
    {
     "data": {
      "text/plain": [
       "Document(page_content='great especially if the aura is so small 3m and you have shadowheart in your party If the information on this page is right I think multiclassing is the way to go after level 5 so you get the extra attack ASAP Action surge from fighter class would fit nicely maybe even get a fighter subclass for superiority die attacks or get barbarian rage or rogue additional bonus action The options are many One example With 5 levels in paladin 2 in fighter and 2 3 in rogue barbarian you would get loads of attacks per turn with Great Weapon Mastery feat or Berserker Frenzy even the bonus action attacks are as powerful as regular action attacks ReplyReplies 5 5 18 1 Submit Anonymous05 Aug 2023 23 07 Anyone else think that Paladin class is lacking in powerful high level skills features The spells and the auras doesnt seem to be that great especially if the aura is so small 3m and you have shadowheart in your party If the information on this page is right I think multiclassing is the way to go after level 5 so you get the extra attack ASAP Action surge from fighter class would fit nicely maybe even get a fighter subclass for superiority die attacks or get barbarian rage or rogue additional bonus action The options are many One example With 5 levels in paladin 2 in fighter and 2 3 in rogue barbarian you would get loads of attacks per turn with Great Weapon Mastery feat or Berserker Frenzy even the bonus action attacks are as powerful as regular action attacks ReplyReplies 5 5 18 1 Submit Anonymous04 Aug 2023 10 01 What is the point of having subclasses in this game when you will sooner or later end up as and Oathbreaker any way because of way how oath sistem works in this game ReplyReplies 12 4 133 1 Submit Anonymous04 Aug 2023 10 01 What is the point of having subclasses in this game when you will sooner or later end up as and Oathbreaker any way because of way how oath sistem works in this game ReplyReplies 12 4 133 1 Submit Anonymous26 Jul 2023 21 21 bro these doofus at fextra recommend you multiclass paladin and rogue so you can get extra bonus actions to smite twice per turn LOLReplyReplies 2 13 113 1 Submit Anonymous26 Jul 2023 21 21 bro these doofus at fextra recommend you multiclass paladin and rogue so you can get extra bonus actions to smite twice per turn LOLReplyReplies 2 13 113 1 Submit Anonymous25 Jul 2023 06 38 Charisma and wisdom affect spell of not saving throw ReplyReplies 1', metadata={})"
      ]
     },
     "execution_count": 5,
     "metadata": {},
     "output_type": "execute_result"
    }
   ],
   "source": [
    "query = \"What are the optimal attribute points if I'm playing as a fighter?\"\n",
    "docs = db.similarity_search(query)\n",
    "docs[0]"
   ]
  },
  {
   "cell_type": "code",
   "execution_count": 9,
   "metadata": {},
   "outputs": [
    {
     "data": {
      "text/plain": [
       "'It is generally recommended for a Fighter to prioritize Strength or Dexterity, depending on whether you plan to focus on melee or ranged combat. Constitution is also important for increasing your hit points and survivability. As for the other attributes, it depends on your playstyle and build. Intelligence, Wisdom, and Charisma are typically less important for a Fighter.'"
      ]
     },
     "execution_count": 9,
     "metadata": {},
     "output_type": "execute_result"
    }
   ],
   "source": [
    "chain = load_qa_chain(ChatOpenAI(temperature=0, model_name='gpt-3.5-turbo'), chain_type=\"stuff\")\n",
    "\n",
    "chain.run(input_documents=docs, question=query)"
   ]
  }
 ],
 "metadata": {
  "kernelspec": {
   "display_name": "Python 3",
   "language": "python",
   "name": "python3"
  },
  "language_info": {
   "codemirror_mode": {
    "name": "ipython",
    "version": 3
   },
   "file_extension": ".py",
   "mimetype": "text/x-python",
   "name": "python",
   "nbconvert_exporter": "python",
   "pygments_lexer": "ipython3",
   "version": "3.10.12"
  },
  "orig_nbformat": 4
 },
 "nbformat": 4,
 "nbformat_minor": 2
}
