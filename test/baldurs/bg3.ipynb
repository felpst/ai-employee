{
 "cells": [
  {
   "cell_type": "code",
   "execution_count": 1,
   "id": "28dc70d8",
   "metadata": {},
   "outputs": [
    {
     "data": {
      "text/plain": [
       "True"
      ]
     },
     "execution_count": 1,
     "metadata": {},
     "output_type": "execute_result"
    }
   ],
   "source": [
    "from dotenv import load_dotenv\n",
    "load_dotenv()"
   ]
  },
  {
   "cell_type": "code",
   "execution_count": 2,
   "id": "0ffcbb8f",
   "metadata": {},
   "outputs": [
    {
     "name": "stderr",
     "output_type": "stream",
     "text": [
      "/home/carlos/.local/lib/python3.10/site-packages/tqdm/auto.py:21: TqdmWarning: IProgress not found. Please update jupyter and ipywidgets. See https://ipywidgets.readthedocs.io/en/stable/user_install.html\n",
      "  from .autonotebook import tqdm as notebook_tqdm\n"
     ]
    }
   ],
   "source": [
    "import os\n",
    "import pickle\n",
    "import pandas as pd\n",
    "from transformers import GPT2TokenizerFast\n",
    "from langchain.text_splitter import RecursiveCharacterTextSplitter\n",
    "from langchain.embeddings import OpenAIEmbeddings\n",
    "from langchain.vectorstores import FAISS\n",
    "from langchain.chains.question_answering import load_qa_chain\n",
    "from langchain.llms import OpenAI"
   ]
  },
  {
   "cell_type": "code",
   "execution_count": 3,
   "id": "8bd226d6",
   "metadata": {},
   "outputs": [],
   "source": [
    "with open('website_content_parsed.txt', 'r', encoding=\"utf-8\") as f:\n",
    "    text = f.read()\n",
    "\n",
    "tokenizer = GPT2TokenizerFast.from_pretrained(\"gpt2\")\n",
    "\n",
    "def count_tokens(text: str) -> int:\n",
    "    return len(tokenizer.encode(text))\n",
    "\n",
    "text_splitter = RecursiveCharacterTextSplitter(\n",
    "    chunk_size = 512,\n",
    "    chunk_overlap  = 24,\n",
    "    length_function = count_tokens,\n",
    ")\n",
    "\n",
    "chunks = text_splitter.create_documents([text])"
   ]
  },
  {
   "cell_type": "code",
   "execution_count": 4,
   "id": "0c96d695",
   "metadata": {},
   "outputs": [],
   "source": [
    "embeddings = OpenAIEmbeddings(model=\"text-embedding-ada-002\")\n",
    "\n",
    "db = FAISS.from_documents(chunks, embeddings)\n",
    "\n",
    "with open(\"embeddings.pkl\", \"wb\") as f:\n",
    "    pickle.dump(db, f)"
   ]
  },
  {
   "cell_type": "code",
   "execution_count": 8,
   "id": "94dd07fe",
   "metadata": {},
   "outputs": [
    {
     "data": {
      "text/plain": [
       "Document(page_content='Quest Items Food Tools Potions Scrolls Quest Items Food Tools Equipment Features World Information Interactive Map Companions Approval Quests Locations Maps Enemies Bosses NPCs Merchants Lore Camp Interactive Map Companions Approval Quests Locations Maps Maps Enemies Bosses Bosses NPCs Merchants Lore Camp Guides Walkthroughs New Player Help Walkthrough Game Progress Route Build Guides Endings Guide Romance Guide Mods Trophy Achievement Guide New Player Help Walkthrough Game Progress Route Build Guides Endings Guide Romance Guide Mods Trophy Achievement Guide Create new page Edit History Recent Changes Rename Redirect Lock Unlock Permissions Javascript Tags Edit Open Graph Clear page cache Clear comments cache File Manager Page Manager Wiki Templates Comments Approval Wiki Settings Wiki Manager Delete Anonymous01 Aug 2023 14 44 I guess the Twitch drops until middle of August might be worth mentioning at least here as a comment some extra clothes but still fun lol ReplyReplies 1 5 10 1 Submit Anonymous01 Aug 2023 14 44 I guess the Twitch drops until middle of August might be worth mentioning at least here as a comment some extra clothes but still fun lol ReplyReplies 1 5 10 1 Submit Wiki Home Gaming Wikis Gaming Forum Fextralife Home Privacy Policy Terms of Use Copyright Policy Advertise on Fextralife Recent Changes New page File Manager Members Page Manager Settings Create Wiki Back to top Subclasses in Baldur s Gate 3 is a secondary classification that players can choose apart from the main Class Subclasses determine your character s Abilities aptitudes and how they will develop as they increase in level Each available class in the game will split into a number of subclasses Most Classes will have three available Subclass options while others like the Cleric and Wizard will have more This page covers a list of all the subclasses available in the game The table also lists the ones that can be played during Early Access Upon the official release of Baldur s Gate 3 players will be able to see all 12 Classes which expands to about 46 Subclasses during Character Creation including the new subclasses and the new Monk class Developers have announced that they have added at least one new Subclass per Class so that players will have additional options and a chance to have a new experience On average one class will have about 3 subclasses but other specific Classes may have more to try out such as the Cleric and the Wizard Baldur s Gate 3 also introduces the Multiclassing feature that will be available at release After selecting a Class in the Subclass menu players can proceed to view all Subclasses related to that Class Select one to view the Subclass description the associated Actions and Subclass Features', metadata={})"
      ]
     },
     "execution_count": 8,
     "metadata": {},
     "output_type": "execute_result"
    }
   ],
   "source": [
    "query = \"What are all classes in baldurs gate 3\"\n",
    "docs = db.similarity_search(query)\n",
    "docs[0]"
   ]
  },
  {
   "cell_type": "code",
   "execution_count": 9,
   "id": "054cee5c",
   "metadata": {},
   "outputs": [
    {
     "data": {
      "text/plain": [
       "\" The classes in Baldur's Gate 3 are Cleric, Fighter, Ranger, Rogue, Warlock, Wizard, Druid, Sorcerer, Barbarian, Bard, Paladin, and Monk. Each class has a number of subclasses, with an average of 3 subclasses per class. The Cleric and Wizard classes have more subclasses than other classes. Multiclassing is also available in Baldur's Gate 3, allowing players to switch classes mid-game.\""
      ]
     },
     "execution_count": 9,
     "metadata": {},
     "output_type": "execute_result"
    }
   ],
   "source": [
    "chain = load_qa_chain(OpenAI(temperature=0), chain_type=\"stuff\")\n",
    "\n",
    "chain.run(input_documents=docs, question=query)"
   ]
  }
 ],
 "metadata": {
  "kernelspec": {
   "display_name": "Python 3 (ipykernel)",
   "language": "python",
   "name": "python3"
  },
  "language_info": {
   "codemirror_mode": {
    "name": "ipython",
    "version": 3
   },
   "file_extension": ".py",
   "mimetype": "text/x-python",
   "name": "python",
   "nbconvert_exporter": "python",
   "pygments_lexer": "ipython3",
   "version": "3.10.12"
  }
 },
 "nbformat": 4,
 "nbformat_minor": 5
}
