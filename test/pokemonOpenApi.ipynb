{
 "cells": [
  {
   "cell_type": "code",
   "execution_count": null,
   "metadata": {},
   "outputs": [],
   "source": [
    "openai_api_key = \"***REMOVED***\"\n",
    "\n",
    "from langchain.tools import OpenAPISpec, APIOperation\n",
    "from langchain.chains import OpenAPIEndpointChain\n",
    "from langchain.requests import Requests\n",
    "from langchain.llms import OpenAI\n"
   ]
  },
  {
   "cell_type": "code",
   "execution_count": null,
   "metadata": {},
   "outputs": [],
   "source": [
    "spec = OpenAPISpec.from_file(\"./berries-open-api.json\")\n",
    "\n",
    "# operation = APIOperation.from_openapi_spec(spec, \"\"\"/api/v2/berry/{id_or_name}\"\"\", \"get\")\n",
    "\n",
    "\n",
    "llm = OpenAI(openai_api_key=openai_api_key, verbose=True)  # Load a Language Model"
   ]
  },
  {
   "cell_type": "code",
   "execution_count": null,
   "metadata": {},
   "outputs": [],
   "source": [
    "chain = OpenAPIEndpointChain.from_api_operation(\n",
    "    operation,\n",
    "    llm,\n",
    "    requests=Requests(),\n",
    "    verbose=True,\n",
    "    return_intermediate_steps=True,  # Return request and response text\n",
    ")"
   ]
  },
  {
   "cell_type": "code",
   "execution_count": null,
   "metadata": {},
   "outputs": [],
   "source": [
    "output = chain(\"what are all flavors of chesto\")\n",
    "output"
   ]
  }
 ],
 "metadata": {
  "kernelspec": {
   "display_name": "Python 3",
   "language": "python",
   "name": "python3"
  },
  "language_info": {
   "codemirror_mode": {
    "name": "ipython",
    "version": 3
   },
   "file_extension": ".py",
   "mimetype": "text/x-python",
   "name": "python",
   "nbconvert_exporter": "python",
   "pygments_lexer": "ipython3",
   "version": "3.10.12"
  },
  "orig_nbformat": 4
 },
 "nbformat": 4,
 "nbformat_minor": 2
}
