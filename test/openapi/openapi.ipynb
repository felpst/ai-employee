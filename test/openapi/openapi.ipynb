{
 "cells": [
  {
   "cell_type": "code",
   "execution_count": 2,
   "metadata": {},
   "outputs": [
    {
     "data": {
      "text/plain": [
       "True"
      ]
     },
     "execution_count": 2,
     "metadata": {},
     "output_type": "execute_result"
    }
   ],
   "source": [
    "from dotenv import load_dotenv\n",
    "load_dotenv()"
   ]
  },
  {
   "cell_type": "code",
   "execution_count": 3,
   "metadata": {},
   "outputs": [
    {
     "name": "stderr",
     "output_type": "stream",
     "text": [
      "/home/carlos/.local/lib/python3.10/site-packages/tqdm/auto.py:21: TqdmWarning: IProgress not found. Please update jupyter and ipywidgets. See https://ipywidgets.readthedocs.io/en/stable/user_install.html\n",
      "  from .autonotebook import tqdm as notebook_tqdm\n"
     ]
    }
   ],
   "source": [
    "import os\n",
    "import pickle\n",
    "import pandas as pd\n",
    "from transformers import GPT2TokenizerFast\n",
    "from langchain.text_splitter import RecursiveCharacterTextSplitter\n",
    "from langchain.embeddings import OpenAIEmbeddings\n",
    "from langchain.vectorstores import FAISS\n",
    "from langchain.chains.question_answering import load_qa_chain\n",
    "from langchain.llms import OpenAI\n",
    "from langchain import PromptTemplate, OpenAI, LLMChain\n"
   ]
  },
  {
   "cell_type": "code",
   "execution_count": 4,
   "metadata": {},
   "outputs": [],
   "source": [
    "with open('website_content_parsed.txt', 'r', encoding=\"utf-8\") as f:\n",
    "    text = f.read()\n",
    "\n",
    "tokenizer = GPT2TokenizerFast.from_pretrained(\"gpt2\")\n",
    "\n",
    "def count_tokens(text: str) -> int:\n",
    "    return len(tokenizer.encode(text))\n",
    "\n",
    "text_splitter = RecursiveCharacterTextSplitter(\n",
    "    chunk_size = 512,\n",
    "    chunk_overlap  = 24,\n",
    "    length_function = count_tokens,\n",
    ")\n",
    "\n",
    "chunks = text_splitter.create_documents([text])"
   ]
  },
  {
   "cell_type": "code",
   "execution_count": 5,
   "metadata": {},
   "outputs": [],
   "source": [
    "embeddings = OpenAIEmbeddings(model=\"text-embedding-ada-002\")\n",
    "\n",
    "db = FAISS.from_documents(chunks, embeddings)\n",
    "\n",
    "with open(\"embeddings.pkl\", \"wb\") as f:\n",
    "    pickle.dump(db, f)w"
   ]
  },
  {
   "cell_type": "code",
   "execution_count": 6,
   "metadata": {},
   "outputs": [
    {
     "data": {
      "text/plain": [
       "Document(page_content=\"GuideBelow you'll find examples using Fetch API but you can JSONPlaceholder with any other language.You can copy paste the code in your browser console to quickly test JSONPlaceholder.ads via CarbonGet 10 Free Images From Adobe Stock. Start Now.ADS VIA CARBONGetting a resourcefetch('https://jsonplaceholder.typicode.com/posts/1')  .then((response) => response.json())  .then((json) => console.log(json));👇 Output{  id: 1,  title: '...',  body: '...',  userId: 1}Listing all resourcesfetch('https://jsonplaceholder.typicode.com/posts')  .then((response) => response.json())  .then((json) => console.log(json));👇 Output[  { id: 1, title: '...' /* ... */ },  { id: 2, title: '...' /* ... */ },  { id: 3, title: '...' /* ... */ },  /* ... */  { id: 100, title: '...' /* ... */ },];Creating a resourcefetch('https://jsonplaceholder.typicode.com/posts', {  method: 'POST',  body: JSON.stringify({    title: 'foo',    body: 'bar',    userId: 1,  }),  headers: {    'Content-type': 'application/json; charset=UTF-8',  },})  .then((response) => response.json())  .then((json) => console.log(json));👇 Output{  id: 101,  title: 'foo',  body: 'bar',  userId: 1}Important: resource will not be really updated on the server but it will be faked as if.Updating a resourcefetch('https://jsonplaceholder.typicode.com/posts/1', {  method: 'PUT',  body: JSON.stringify({    id: 1,    title: 'foo',    body: 'bar',    userId: 1,  }),  headers: {    'Content-type': 'application/json; charset=UTF-8',  },})  .then((response) =>\", metadata={})"
      ]
     },
     "execution_count": 6,
     "metadata": {},
     "output_type": "execute_result"
    }
   ],
   "source": [
    "query = \"request\"\n",
    "docs = db.similarity_search(query)\n",
    "docs[0]"
   ]
  },
  {
   "cell_type": "code",
   "execution_count": 7,
   "metadata": {},
   "outputs": [
    {
     "data": {
      "text/plain": [
       "'\\n\\n{\\n    \"openapi\": \"3.0.0\",\\n    \"info\": {\\n        \"title\": \"JSONPlaceholder API\",\\n        \"version\": \"1.0.0\"\\n    },\\n    \"servers\": [\\n        {\\n            \"url\": \"https://jsonplaceholder.typicode.com\"\\n        }\\n    ],\\n    \"paths\": {\\n        \"/posts\": {\\n            \"get\": {\\n                \"summary\": \"Listing all resources\",\\n                \"responses\": {\\n                    \"200\": {\\n                        \"description\": \"Successful response\",\\n                        \"content\": {\\n                            \"application/json\": {\\n                                \"schema\": {\\n                                    \"type\": \"array\",\\n                                    \"items\": {\\n                                        \"type\": \"object\",\\n                                        \"properties\": {\\n                                            \"id\": {\\n                                                \"type\": \"integer\"\\n                                            },\\n                                            \"title\": {\\n                                                \"type\": \"string\"\\n                                            },\\n                                            \"body\": {\\n                                                \"type\": \"string\"\\n                '"
      ]
     },
     "execution_count": 7,
     "metadata": {},
     "output_type": "execute_result"
    }
   ],
   "source": [
    "prompt_template = \"create a openapi json for this documentation api {docs}?\"\n",
    "\n",
    "llm = OpenAI(temperature=0)\n",
    "# llm_chain = LLMChain(\n",
    "#     llm=llm,\n",
    "#     prompt=PromptTemplate.from_template(prompt_template)\n",
    "# )\n",
    "\n",
    "llm(\"return me a openapi json for the page_content {}\".format(docs))\n",
    "\n"
   ]
  },
  {
   "cell_type": "code",
   "execution_count": null,
   "metadata": {},
   "outputs": [],
   "source": []
  }
 ],
 "metadata": {
  "kernelspec": {
   "display_name": "Python 3",
   "language": "python",
   "name": "python3"
  },
  "language_info": {
   "codemirror_mode": {
    "name": "ipython",
    "version": 3
   },
   "file_extension": ".py",
   "mimetype": "text/x-python",
   "name": "python",
   "nbconvert_exporter": "python",
   "pygments_lexer": "ipython3",
   "version": "3.10.12"
  },
  "orig_nbformat": 4
 },
 "nbformat": 4,
 "nbformat_minor": 2
}
