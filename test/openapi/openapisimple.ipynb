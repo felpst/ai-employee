{
 "cells": [
  {
   "cell_type": "code",
   "execution_count": 1,
   "metadata": {},
   "outputs": [
    {
     "name": "stderr",
     "output_type": "stream",
     "text": [
      "/home/carlos/.local/lib/python3.10/site-packages/tqdm/auto.py:21: TqdmWarning: IProgress not found. Please update jupyter and ipywidgets. See https://ipywidgets.readthedocs.io/en/stable/user_install.html\n",
      "  from .autonotebook import tqdm as notebook_tqdm\n"
     ]
    }
   ],
   "source": [
    "from dotenv import load_dotenv\n",
    "load_dotenv()\n",
    "\n",
    "import os\n",
    "import pickle\n",
    "import pandas as pd\n",
    "from transformers import GPT2TokenizerFast\n",
    "from langchain.text_splitter import RecursiveCharacterTextSplitter\n",
    "from langchain.embeddings import OpenAIEmbeddings\n",
    "from langchain.vectorstores import FAISS\n",
    "from langchain.chains.question_answering import load_qa_chain\n",
    "from langchain.llms import OpenAI\n",
    "from langchain import PromptTemplate, OpenAI, LLMChain"
   ]
  },
  {
   "cell_type": "code",
   "execution_count": 2,
   "metadata": {},
   "outputs": [
    {
     "name": "stdout",
     "output_type": "stream",
     "text": [
      "create a openapi json for this documentation JSONPlaceholder\n",
      "Guide\n",
      "Sponsor this project\n",
      "Blog\n",
      "My JSON Server\n",
      "Guide\n",
      "Below you'll find examples using Fetch API but you can JSONPlaceholder with any other language.\n",
      "\n",
      "You can copy paste the code in your browser console to quickly test JSONPlaceholder.\n",
      "\n",
      "ads via Carbon\n",
      "Adobe Creative Cloud for Teams. Put creativity to work.\n",
      "ADS VIA CARBON\n",
      "Getting a resource\n",
      "fetch('https://jsonplaceholder.typicode.com/posts/1')\n",
      "  .then((response) => response.json())\n",
      "  .then((json) => console.log(json));\n",
      "👇 Output\n",
      "\n",
      "{\n",
      "  id: 1,\n",
      "  title: '...',\n",
      "  body: '...',\n",
      "  userId: 1\n",
      "}\n",
      "Listing all resources\n",
      "fetch('https://jsonplaceholder.typicode.com/posts')\n",
      "  .then((response) => response.json())\n",
      "  .then((json) => console.log(json));\n",
      "👇 Output\n",
      "\n",
      "[\n",
      "  { id: 1, title: '...' /* ... */ },\n",
      "  { id: 2, title: '...' /* ... */ },\n",
      "  { id: 3, title: '...' /* ... */ },\n",
      "  /* ... */\n",
      "  { id: 100, title: '...' /* ... */ },\n",
      "];\n",
      "Creating a resource\n",
      "fetch('https://jsonplaceholder.typicode.com/posts', {\n",
      "  method: 'POST',\n",
      "  body: JSON.stringify({\n",
      "    title: 'foo',\n",
      "    body: 'bar',\n",
      "    userId: 1,\n",
      "  }),\n",
      "  headers: {\n",
      "    'Content-type': 'application/json; charset=UTF-8',\n",
      "  },\n",
      "})\n",
      "  .then((response) => response.json())\n",
      "  .then((json) => console.log(json));\n",
      "👇 Output\n",
      "\n",
      "{\n",
      "  id: 101,\n",
      "  title: 'foo',\n",
      "  body: 'bar',\n",
      "  userId: 1\n",
      "}\n",
      "Important: resource will not be really updated on the server but it will be faked as if.\n",
      "\n",
      "Updating a resource\n",
      "fetch('https://jsonplaceholder.typicode.com/posts/1', {\n",
      "  method: 'PUT',\n",
      "  body: JSON.stringify({\n",
      "    id: 1,\n",
      "    title: 'foo',\n",
      "    body: 'bar',\n",
      "    userId: 1,\n",
      "  }),\n",
      "  headers: {\n",
      "    'Content-type': 'application/json; charset=UTF-8',\n",
      "  },\n",
      "})\n",
      "  .then((response) => response.json())\n",
      "  .then((json) => console.log(json));\n",
      "👇 Output\n",
      "\n",
      "{\n",
      "  id: 1,\n",
      "  title: 'foo',\n",
      "  body: 'bar',\n",
      "  userId: 1\n",
      "}\n",
      "Important: resource will not be really updated on the server but it will be faked as if.\n",
      "\n",
      "Patching a resource\n",
      "fetch('https://jsonplaceholder.typicode.com/posts/1', {\n",
      "  method: 'PATCH',\n",
      "  body: JSON.stringify({\n",
      "    title: 'foo',\n",
      "  }),\n",
      "  headers: {\n",
      "    'Content-type': 'application/json; charset=UTF-8',\n",
      "  },\n",
      "})\n",
      "  .then((response) => response.json())\n",
      "  .then((json) => console.log(json));\n",
      "👇 Output\n",
      "\n",
      "{\n",
      "  id: 1,\n",
      "  title: 'foo',\n",
      "  body: '...',\n",
      "  userId: 1\n",
      "}\n",
      "Important: resource will not be really updated on the server but it will be faked as if.\n",
      "\n",
      "Deleting a resource\n",
      "fetch('https://jsonplaceholder.typicode.com/posts/1', {\n",
      "  method: 'DELETE',\n",
      "});\n",
      "Important: resource will not be really updated on the server but it will be faked as if.\n",
      "\n",
      "Filtering resources\n",
      "Basic filtering is supported through query parameters.\n",
      "\n",
      "// This will return all the posts that belong to the first user\n",
      "fetch('https://jsonplaceholder.typicode.com/posts?userId=1')\n",
      "  .then((response) => response.json())\n",
      "  .then((json) => console.log(json));\n",
      "Listing nested resources\n",
      "One level of nested route is available.\n",
      "\n",
      "// This is equivalent to /comments?postId=1\n",
      "fetch('https://jsonplaceholder.typicode.com/posts/1/comments')\n",
      "  .then((response) => response.json())\n",
      "  .then((json) => console.log(json));\n",
      "The available nested routes are:\n",
      "\n",
      "/posts/1/comments\n",
      "/albums/1/photos\n",
      "/users/1/albums\n",
      "/users/1/todos\n",
      "/users/1/posts\n",
      "You can sponsor this project (and others) on GitHub\n",
      "Coded and maintained with ❤️ by typicode © 2022w\n"
     ]
    }
   ],
   "source": [
    "with open('text.txt', 'r', encoding=\"utf-8\") as f:\n",
    "    text = f.read()\n",
    "\n",
    "print(\"create a openapi json for this documentation {}\".format(text))"
   ]
  },
  {
   "cell_type": "code",
   "execution_count": 3,
   "metadata": {},
   "outputs": [
    {
     "name": "stderr",
     "output_type": "stream",
     "text": [
      "/home/carlos/.local/lib/python3.10/site-packages/langchain/llms/openai.py:173: UserWarning: You are trying to use a chat model. This way of initializing it is no longer supported. Instead, please use: `from langchain.chat_models import ChatOpenAI`\n",
      "  warnings.warn(\n",
      "/home/carlos/.local/lib/python3.10/site-packages/langchain/llms/openai.py:751: UserWarning: You are trying to use a chat model. This way of initializing it is no longer supported. Instead, please use: `from langchain.chat_models import ChatOpenAI`\n",
      "  warnings.warn(\n"
     ]
    },
    {
     "data": {
      "text/plain": [
       "'{\\n  \"openapi\": \"3.0.0\",\\n  \"info\": {\\n    \"title\": \"JSONPlaceholder API\",\\n    \"version\": \"1.0.0\",\\n    \"description\": \"API documentation for JSONPlaceholder\"\\n  },\\n  \"servers\": [\\n    {\\n      \"url\": \"https://jsonplaceholder.typicode.com\"\\n    }\\n  ],\\n  \"paths\": {\\n    \"/posts/{postId}\": {\\n      \"get\": {\\n        \"summary\": \"Get a specific post\",\\n        \"parameters\": [\\n          {\\n            \"name\": \"postId\",\\n            \"in\": \"path\",\\n            \"required\": true,\\n            \"schema\": {\\n              \"type\": \"integer\"\\n            }\\n          }\\n        ],\\n        \"responses\": {\\n          \"200\": {\\n            \"description\": \"Successful response\",\\n            \"content\": {\\n              \"application/json\": {\\n                \"schema\": {\\n                  \"$ref\": \"#/components/schemas/Post\"\\n                }\\n              }\\n            }\\n          }\\n        }\\n      },\\n      \"put\": {\\n        \"summary\": \"Update a specific post\",\\n        \"parameters\": [\\n          {\\n            \"name\": \"postId\",\\n            \"in\": \"path\",\\n            \"required\": true,\\n            \"schema\": {\\n              \"type\": \"integer\"\\n            }\\n          }\\n        ],\\n        \"requestBody\": {\\n          \"required\": true,\\n          \"content\": {\\n            \"application/json\": {\\n              \"schema\": {\\n                \"$ref\": \"#/components/schemas/PostUpdate\"\\n              }\\n            }\\n          }\\n        },\\n        \"responses\": {\\n          \"200\": {\\n            \"description\": \"Successful response\",\\n            \"content\": {\\n              \"application/json\": {\\n                \"schema\": {\\n                  \"$ref\": \"#/components/schemas/Post\"\\n                }\\n              }\\n            }\\n          }\\n        }\\n      },\\n      \"patch\": {\\n        \"summary\": \"Partially update a specific post\",\\n        \"parameters\": [\\n          {\\n            \"name\": \"postId\",\\n            \"in\": \"path\",\\n            \"required\": true,\\n            \"schema\": {\\n              \"type\": \"integer\"\\n            }\\n          }\\n        ],\\n        \"requestBody\": {\\n          \"required\": true,\\n          \"content\": {\\n            \"application/json\": {\\n              \"schema\": {\\n                \"$ref\": \"#/components/schemas/PostPatch\"\\n              }\\n            }\\n          }\\n        },\\n        \"responses\": {\\n          \"200\": {\\n            \"description\": \"Successful response\",\\n            \"content\": {\\n              \"application/json\": {\\n                \"schema\": {\\n                  \"$ref\": \"#/components/schemas/Post\"\\n                }\\n              }\\n            }\\n          }\\n        }\\n      },\\n      \"delete\": {\\n        \"summary\": \"Delete a specific post\",\\n        \"parameters\": [\\n          {\\n            \"name\": \"postId\",\\n            \"in\": \"path\",\\n            \"required\": true,\\n            \"schema\": {\\n              \"type\": \"integer\"\\n            }\\n          }\\n        ],\\n        \"responses\": {\\n          \"204\": {\\n            \"description\": \"Successful response\"\\n          }\\n        }\\n      }\\n    },\\n    \"/posts\": {\\n      \"get\": {\\n        \"summary\": \"Get all posts\",\\n        \"responses\": {\\n          \"200\": {\\n            \"description\": \"Successful response\",\\n            \"content\": {\\n              \"application/json\": {\\n                \"schema\": {\\n                  \"type\": \"array\",\\n                  \"items\": {\\n                    \"$ref\": \"#/components/schemas/Post\"\\n                  }\\n                }\\n              }\\n            }\\n          }\\n        }\\n      },\\n      \"post\": {\\n        \"summary\": \"Create a new post\",\\n        \"requestBody\": {\\n          \"required\": true,\\n          \"content\": {\\n            \"application/json\": {\\n              \"schema\": {\\n                \"$ref\": \"#/components/schemas/PostCreate\"\\n              }\\n            }\\n          }\\n        },\\n        \"responses\": {\\n          \"201\": {\\n            \"description\": \"Successful response\",\\n            \"content\": {\\n              \"application/json\": {\\n                \"schema\": {\\n                  \"$ref\": \"#/components/schemas/Post\"\\n                }\\n              }\\n            }\\n          }\\n        }\\n      }\\n    },\\n    \"/posts/{postId}/comments\": {\\n      \"get\": {\\n        \"summary\": \"Get comments for a specific post\",\\n        \"parameters\": [\\n          {\\n            \"name\": \"postId\",\\n            \"in\": \"path\",\\n            \"required\": true,\\n            \"schema\": {\\n              \"type\": \"integer\"\\n            }\\n          }\\n        ],\\n        \"responses\": {\\n          \"200\": {\\n            \"description\": \"Successful response\",\\n            \"content\": {\\n              \"application/json\": {\\n                \"schema\": {\\n                  \"type\": \"array\",\\n                  \"items\": {\\n                    \"$ref\": \"#/components/schemas/Comment\"\\n                  }\\n                }\\n              }\\n            }\\n          }\\n        }\\n      }\\n    },\\n    \"/albums/{albumId}/photos\": {\\n      \"get\": {\\n        \"summary\": \"Get photos for a specific album\",\\n        \"parameters\": [\\n          {\\n            \"name\": \"albumId\",\\n            \"in\": \"path\",\\n            \"required\": true,\\n            \"schema\": {\\n              \"type\": \"integer\"\\n            }\\n          }\\n        ],\\n        \"responses\": {\\n          \"200\": {\\n            \"description\": \"Successful response\",\\n            \"content\": {\\n              \"application/json\": {\\n                \"schema\": {\\n                  \"type\": \"array\",\\n                  \"items\": {\\n                    \"$ref\": \"#/components/schemas/Photo\"\\n                  }\\n                }\\n              }\\n            }\\n          }\\n        }\\n      }\\n    },\\n    \"/users/{userId}/albums\": {\\n      \"get\": {\\n        \"summary\": \"Get albums for a specific user\",\\n        \"parameters\": [\\n          {\\n            \"name\": \"userId\",\\n            \"in\": \"path\",\\n            \"required\": true,\\n            \"schema\": {\\n              \"type\": \"integer\"\\n            }\\n          }\\n        ],\\n        \"responses\": {\\n          \"200\": {\\n            \"description\": \"Successful response\",\\n            \"content\": {\\n              \"application/json\": {\\n                \"schema\": {\\n                  \"type\": \"array\",\\n                  \"items\": {\\n                    \"$ref\": \"#/components/schemas/Album\"\\n                  }\\n                }\\n              }\\n            }\\n          }\\n        }\\n      }\\n    },\\n    \"/users/{userId}/todos\": {\\n      \"get\": {\\n        \"summary\": \"Get todos for a specific user\",\\n        \"parameters\": [\\n          {\\n            \"name\": \"userId\",\\n            \"in\": \"path\",\\n            \"required\": true,\\n            \"schema\": {\\n              \"type\": \"integer\"\\n            }\\n          }\\n        ],\\n        \"responses\": {\\n          \"200\": {\\n            \"description\": \"Successful response\",\\n            \"content\": {\\n              \"application/json\": {\\n                \"schema\": {\\n                  \"type\": \"array\",\\n                  \"items\": {\\n                    \"$ref\": \"#/components/schemas/Todo\"\\n                  }\\n                }\\n              }\\n            }\\n          }\\n        }\\n      }\\n    },\\n    \"/users/{userId}/posts\": {\\n      \"get\": {\\n        \"summary\": \"Get posts for a specific user\",\\n        \"parameters\": [\\n          {\\n            \"name\": \"userId\",\\n            \"in\": \"path\",\\n            \"required\": true,\\n            \"schema\": {\\n              \"type\": \"integer\"\\n            }\\n          }\\n        ],\\n        \"responses\": {\\n          \"200\": {\\n            \"description\": \"Successful response\",\\n            \"content\": {\\n              \"application/json\": {\\n                \"schema\": {\\n                  \"type\": \"array\",\\n                  \"items\": {\\n                    \"$ref\": \"#/components/schemas/Post\"\\n                  }\\n                }\\n              }\\n            }\\n          }\\n        }\\n      }\\n    }\\n  },\\n  \"components\": {\\n    \"schemas\": {\\n      \"Post\": {\\n        \"type\": \"object\",\\n        \"properties\": {\\n          \"id\": {\\n            \"type\": \"integer\"\\n          },\\n          \"title\": {\\n            \"type\": \"string\"\\n          },\\n          \"body\": {\\n            \"type\": \"string\"\\n          },\\n          \"userId\": {\\n            \"type\": \"integer\"\\n          }\\n        }\\n      },\\n      \"PostCreate\": {\\n        \"type\": \"object\",\\n        \"properties\": {\\n          \"title\": {\\n            \"type\": \"string\"\\n          },\\n          \"body\": {\\n            \"type\": \"string\"\\n          },\\n          \"userId\": {\\n            \"type\": \"integer\"\\n          }\\n        },\\n        \"required\": [\"title\", \"body\", \"userId\"]\\n      },\\n      \"PostUpdate\": {\\n        \"type\": \"object\",\\n        \"properties\": {\\n          \"id\": {\\n            \"type\": \"integer\"\\n          },\\n          \"title\": {\\n            \"type\": \"string\"\\n          },\\n          \"body\": {\\n            \"type\": \"string\"\\n          },\\n          \"userId\": {\\n            \"type\": \"integer\"\\n          }\\n        },\\n        \"required\": [\"id\", \"title\", \"body\", \"userId\"]\\n      },\\n      \"PostPatch\": {\\n        \"type\": \"object\",\\n        \"properties\": {\\n          \"title\": {\\n            \"type\": \"string\"\\n          }\\n        },\\n        \"required\": [\"title\"]\\n      },\\n      \"Comment\": {\\n        \"type\": \"object\",\\n        \"properties\": {\\n          \"id\": {\\n            \"type\": \"integer\"\\n          },\\n          \"postId\": {\\n            \"type\": \"integer\"\\n          },\\n          \"name\": {\\n            \"type\": \"string\"\\n          },\\n          \"email\": {\\n            \"type\": \"string\"\\n          },\\n          \"body\": {\\n            \"type\": \"string\"\\n          }\\n        }\\n      },\\n      \"Photo\": {\\n        \"type\": \"object\",\\n        \"properties\": {\\n          \"id\": {\\n            \"type\": \"integer\"\\n          },\\n          \"albumId\": {\\n            \"type\": \"integer\"\\n          },\\n          \"title\": {\\n            \"type\": \"string\"\\n          },\\n          \"url\": {\\n            \"type\": \"string\"\\n          },\\n          \"thumbnailUrl\": {\\n            \"type\": \"string\"\\n          }\\n        }\\n      },\\n      \"Album\": {\\n        \"type\": \"object\",\\n        \"properties\": {\\n          \"id\": {\\n            \"type\": \"integer\"\\n          },\\n          \"userId\": {\\n            \"type\": \"integer\"\\n          },\\n          \"title\": {\\n            \"type\": \"string\"\\n          }\\n        }\\n      },\\n      \"Todo\": {\\n        \"type\": \"object\",\\n        \"properties\": {\\n          \"id\": {\\n            \"type\": \"integer\"\\n          },\\n          \"userId\": {\\n            \"type\": \"integer\"\\n          },\\n          \"title\": {\\n            \"type\": \"string\"\\n          },\\n          \"completed\": {\\n            \"type\": \"boolean\"\\n          }\\n        }\\n      }\\n    }\\n  }\\n}'"
      ]
     },
     "execution_count": 3,
     "metadata": {},
     "output_type": "execute_result"
    }
   ],
   "source": [
    "\n",
    "llm = OpenAI(temperature=0, model_name='gpt-3.5-turbo')\n",
    "\n",
    "llm(\"make me a json openapi for this documentation {}\".format(text))"
   ]
  }
 ],
 "metadata": {
  "kernelspec": {
   "display_name": "Python 3",
   "language": "python",
   "name": "python3"
  },
  "language_info": {
   "codemirror_mode": {
    "name": "ipython",
    "version": 3
   },
   "file_extension": ".py",
   "mimetype": "text/x-python",
   "name": "python",
   "nbconvert_exporter": "python",
   "pygments_lexer": "ipython3",
   "version": "3.10.12"
  },
  "orig_nbformat": 4
 },
 "nbformat": 4,
 "nbformat_minor": 2
}
