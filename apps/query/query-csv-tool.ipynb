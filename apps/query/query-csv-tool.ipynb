{
 "cells": [
  {
   "cell_type": "code",
   "execution_count": 1,
   "metadata": {},
   "outputs": [],
   "source": [
    "from dotenv import load_dotenv\n",
    "load_dotenv()\n",
    "\n",
    "from langchain.agents import initialize_agent, Tool"
   ]
  },
  {
   "cell_type": "code",
   "execution_count": 2,
   "metadata": {},
   "outputs": [],
   "source": [
    "\n",
    "from langchain.agents import create_csv_agent\n",
    "from langchain.llms import OpenAI\n",
    "from langchain.chat_models import ChatOpenAI\n",
    "from langchain.agents.agent_types import AgentType\n",
    "\n",
    "csv_agent = create_csv_agent(\n",
    "  ChatOpenAI(temperature=0, model=\"gpt-4\"),\n",
    "  [\"clientes.csv\", \"produtos.csv\", \"vendas.csv\"],\n",
    "  verbose=True,\n",
    "  agent_type=AgentType.OPENAI_FUNCTIONS  \n",
    ")\n",
    "\n",
    "# query(\"What is the email of Pearl Johnston?\")"
   ]
  },
  {
   "cell_type": "code",
   "execution_count": 3,
   "metadata": {},
   "outputs": [],
   "source": [
    "# Create tools\n",
    "tools = [\n",
    "  Tool.from_function(\n",
    "    name=\"Search\",\n",
    "    description=\"Useful when you need to answer questions about a clients (clientes.csv: id,name,email,address) and sales (vendas.csv: id,productId,customerId,timestamp). Input should be in the form of a question containing full context.\",\n",
    "    func=csv_agent.run\n",
    "  )\n",
    "]"
   ]
  },
  {
   "cell_type": "code",
   "execution_count": 4,
   "metadata": {},
   "outputs": [],
   "source": [
    "from langchain.memory import ConversationBufferMemory\n",
    "\n",
    "llm = ChatOpenAI(temperature=0)\n",
    "memory = ConversationBufferMemory(memory_key=\"chat_history\", return_messages=True)\n",
    "agent = initialize_agent(tools, llm, agent=AgentType.CHAT_CONVERSATIONAL_REACT_DESCRIPTION, verbose=True, memory=memory)\n",
    "\n",
    "# import langchain\n",
    "# langchain.debug = True"
   ]
  },
  {
   "cell_type": "code",
   "execution_count": 5,
   "metadata": {},
   "outputs": [
    {
     "name": "stdout",
     "output_type": "stream",
     "text": [
      "\n",
      "\n",
      "\u001b[1m> Entering new AgentExecutor chain...\u001b[0m\n",
      "\u001b[32;1m\u001b[1;3m{\n",
      "    \"action\": \"Search\",\n",
      "    \"action_input\": \"Which products are purchased by customer with email Jazmyne67@yahoo.com?\"\n",
      "}\u001b[0m\n",
      "\n",
      "\u001b[1m> Entering new AgentExecutor chain...\u001b[0m\n",
      "\u001b[32;1m\u001b[1;3m\n",
      "Invoking: `python_repl_ast` with `customer_id = df1.loc[df1['email'] == 'Jazmyne67@yahoo.com', 'id'].values[0]\n",
      "customer_id`\n",
      "responded: {content}\n",
      "\n",
      "\u001b[0m\u001b[36;1m\u001b[1;3m175\u001b[0m\u001b[32;1m\u001b[1;3m\n",
      "Invoking: `python_repl_ast` with `product_ids = df3.loc[df3['customerId'] == customer_id, 'productId'].values\n",
      "product_ids`\n",
      "responded: {content}\n",
      "\n",
      "\u001b[0m\u001b[36;1m\u001b[1;3m[ 9 17 14 10 17  5]\u001b[0m\u001b[32;1m\u001b[1;3m\n",
      "Invoking: `python_repl_ast` with `product_names = df2.loc[df2['id'].isin(product_ids), 'name'].values\n",
      "product_names`\n",
      "responded: {content}\n",
      "\n",
      "\u001b[0m\u001b[36;1m\u001b[1;3m['Generic Wooden Shirt' 'Luxurious Steel Car' 'Awesome Cotton Bacon'\n",
      " 'Licensed Frozen Bacon' 'Handmade Rubber Pants']\u001b[0m\u001b[32;1m\u001b[1;3mThe customer with the email \"Jazmyne67@yahoo.com\" has purchased the following products:\n",
      "\n",
      "- Generic Wooden Shirt\n",
      "- Luxurious Steel Car\n",
      "- Awesome Cotton Bacon\n",
      "- Licensed Frozen Bacon\n",
      "- Handmade Rubber Pants\u001b[0m\n",
      "\n",
      "\u001b[1m> Finished chain.\u001b[0m\n",
      "\n",
      "Observation: \u001b[36;1m\u001b[1;3mThe customer with the email \"Jazmyne67@yahoo.com\" has purchased the following products:\n",
      "\n",
      "- Generic Wooden Shirt\n",
      "- Luxurious Steel Car\n",
      "- Awesome Cotton Bacon\n",
      "- Licensed Frozen Bacon\n",
      "- Handmade Rubber Pants\u001b[0m\n",
      "Thought:\u001b[32;1m\u001b[1;3m{\n",
      "    \"action\": \"Final Answer\",\n",
      "    \"action_input\": \"The customer with the email 'Jazmyne67@yahoo.com' has purchased the following products: Generic Wooden Shirt, Luxurious Steel Car, Awesome Cotton Bacon, Licensed Frozen Bacon, Handmade Rubber Pants.\"\n",
      "}\u001b[0m\n",
      "\n",
      "\u001b[1m> Finished chain.\u001b[0m\n"
     ]
    },
    {
     "data": {
      "text/plain": [
       "\"The customer with the email 'Jazmyne67@yahoo.com' has purchased the following products: Generic Wooden Shirt, Luxurious Steel Car, Awesome Cotton Bacon, Licensed Frozen Bacon, Handmade Rubber Pants.\""
      ]
     },
     "execution_count": 5,
     "metadata": {},
     "output_type": "execute_result"
    }
   ],
   "source": [
    "# mrkl.run(\"What is the weather in LA and SF?\")\n",
    "# mrkl.run(\"What is email of Pearl Johnston?\")\n",
    "# agent.run(\"What is name of Cody1@yahoo.com?\")\n",
    "# agent.run(\"What is the name and email of customer with more purchases?\")\n",
    "\n",
    "agent.run(\"Which products are purchased by customer with email Jazmyne67@yahoo.com?\")"
   ]
  },
  {
   "cell_type": "code",
   "execution_count": 6,
   "metadata": {},
   "outputs": [
    {
     "name": "stdout",
     "output_type": "stream",
     "text": [
      "\n",
      "\n",
      "\u001b[1m> Entering new AgentExecutor chain...\u001b[0m\n",
      "\u001b[32;1m\u001b[1;3m{\n",
      "    \"action\": \"Search\",\n",
      "    \"action_input\": \"How much did customer Jazmyne67@yahoo.com spend?\"\n",
      "}\u001b[0m\n",
      "\n",
      "\u001b[1m> Entering new AgentExecutor chain...\u001b[0m\n",
      "\u001b[32;1m\u001b[1;3m\n",
      "Invoking: `python_repl_ast` with `customer_id = df1[df1['email'] == 'Jazmyne67@yahoo.com']['id'].values[0]\n",
      "customer_id`\n",
      "responded: {content}\n",
      "\n",
      "\u001b[0m\u001b[36;1m\u001b[1;3m175\u001b[0m\u001b[32;1m\u001b[1;3m\n",
      "Invoking: `python_repl_ast` with `purchased_products = df3[df3['customerId'] == customer_id]['productId'].values\n",
      "purchased_products`\n",
      "responded: {content}\n",
      "\n",
      "\u001b[0m\u001b[36;1m\u001b[1;3m[ 9 17 14 10 17  5]\u001b[0m\u001b[32;1m\u001b[1;3m\n",
      "Invoking: `python_repl_ast` with `total_spent = df2[df2['id'].isin(purchased_products)]['price'].sum()\n",
      "total_spent`\n",
      "responded: {content}\n",
      "\n",
      "\u001b[0m\u001b[36;1m\u001b[1;3m3550\u001b[0m\u001b[32;1m\u001b[1;3mThe customer \"Jazmyne67@yahoo.com\" spent a total of 3550.\u001b[0m\n",
      "\n",
      "\u001b[1m> Finished chain.\u001b[0m\n",
      "\n",
      "Observation: \u001b[36;1m\u001b[1;3mThe customer \"Jazmyne67@yahoo.com\" spent a total of 3550.\u001b[0m\n",
      "Thought:\u001b[32;1m\u001b[1;3m{\n",
      "    \"action\": \"Final Answer\",\n",
      "    \"action_input\": \"The customer 'Jazmyne67@yahoo.com' spent a total of 3550.\"\n",
      "}\u001b[0m\n",
      "\n",
      "\u001b[1m> Finished chain.\u001b[0m\n"
     ]
    },
    {
     "data": {
      "text/plain": [
       "\"The customer 'Jazmyne67@yahoo.com' spent a total of 3550.\""
      ]
     },
     "execution_count": 6,
     "metadata": {},
     "output_type": "execute_result"
    }
   ],
   "source": [
    "agent.run(\"How much this customer spend?\")"
   ]
  },
  {
   "cell_type": "code",
   "execution_count": null,
   "metadata": {},
   "outputs": [],
   "source": []
  }
 ],
 "metadata": {
  "kernelspec": {
   "display_name": "Python 3",
   "language": "python",
   "name": "python3"
  },
  "language_info": {
   "codemirror_mode": {
    "name": "ipython",
    "version": 3
   },
   "file_extension": ".py",
   "mimetype": "text/x-python",
   "name": "python",
   "nbconvert_exporter": "python",
   "pygments_lexer": "ipython3",
   "version": "3.11.4"
  },
  "orig_nbformat": 4
 },
 "nbformat": 4,
 "nbformat_minor": 2
}
