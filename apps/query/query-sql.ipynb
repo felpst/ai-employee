{
 "cells": [
  {
   "cell_type": "markdown",
   "metadata": {},
   "source": [
    "# Checklist\n",
    "- Criar um agent com Python\n",
    "- Fazer perguntas para um CSV\n",
    "- conectar um banco no bigquery\n",
    "- Fazer uma pergunta que relacionada um dado do CSV com o bigquery"
   ]
  },
  {
   "cell_type": "code",
   "execution_count": 1,
   "metadata": {},
   "outputs": [],
   "source": [
    "#%pip install langchain openai chromadb tiktoken tabulate sqlalchemy sqlalchemy-bigquery google-cloud-bigquery\n",
    "\n",
    "from dotenv import load_dotenv\n",
    "load_dotenv()\n",
    "\n",
    "from langchain.agents import create_csv_agent\n",
    "from langchain.llms import OpenAI\n",
    "from langchain.chat_models import ChatOpenAI\n",
    "from langchain.agents.agent_types import AgentType"
   ]
  },
  {
   "cell_type": "code",
   "execution_count": 2,
   "metadata": {},
   "outputs": [],
   "source": [
    "from google.cloud import bigquery\n",
    "from sqlalchemy import *\n",
    "from sqlalchemy.engine import create_engine\n",
    "from sqlalchemy.schema import *\n",
    "import os\n",
    "from langchain.agents import create_sql_agent\n",
    "from langchain.agents.agent_toolkits import SQLDatabaseToolkit\n",
    "from langchain.sql_database import SQLDatabase\n",
    "from langchain.llms.openai import OpenAI\n",
    "from langchain.agents import AgentExecutor"
   ]
  },
  {
   "cell_type": "code",
   "execution_count": 3,
   "metadata": {},
   "outputs": [
    {
     "name": "stdout",
     "output_type": "stream",
     "text": [
      "bigquery://quaq-plataform/vendas?credentials_path=credentials.json\n"
     ]
    }
   ],
   "source": [
    "service_account_file = \"credentials.json\"\n",
    "project = \"quaq-plataform\"\n",
    "dataset = \"vendas\"\n",
    "table = \"clientes\"\n",
    "sqlalchemy_url = f'bigquery://{project}/{dataset}?credentials_path={service_account_file}'\n",
    "print(sqlalchemy_url)\n",
    "db = SQLDatabase.from_uri(sqlalchemy_url)"
   ]
  },
  {
   "cell_type": "code",
   "execution_count": null,
   "metadata": {},
   "outputs": [],
   "source": []
  },
  {
   "cell_type": "code",
   "execution_count": 8,
   "metadata": {},
   "outputs": [],
   "source": [
    "llm = OpenAI(temperature=0, model=\"text-davinci-003\")\n",
    "toolkit = SQLDatabaseToolkit(db=db, llm=llm)\n",
    "agent_executor = create_sql_agent(\n",
    "  llm=llm,\n",
    "  toolkit=toolkit,\n",
    "  verbose=True,\n",
    "  top_k=10,\n",
    ")"
   ]
  },
  {
   "cell_type": "code",
   "execution_count": 9,
   "metadata": {},
   "outputs": [
    {
     "name": "stdout",
     "output_type": "stream",
     "text": [
      "\n",
      "\n",
      "\u001b[1m> Entering new AgentExecutor chain...\u001b[0m\n",
      "\u001b[32;1m\u001b[1;3mAction: sql_db_list_tables\n",
      "Action Input: \u001b[0m\n",
      "Observation: \u001b[38;5;200m\u001b[1;3mclientes, produtos, vendas\u001b[0m\n",
      "Thought:\u001b[32;1m\u001b[1;3m I should query the schema of the vendas table to see what columns I can use.\n",
      "Action: sql_db_schema\n",
      "Action Input: vendas\u001b[0m\n",
      "Observation: \u001b[33;1m\u001b[1;3m\n",
      "CREATE TABLE `vendas` (\n",
      "\t`id` INT64, \n",
      "\t`productId` INT64, \n",
      "\t`customerId` INT64, \n",
      "\t`timestamp` TIMESTAMP\n",
      ")\n",
      "\n",
      "/*\n",
      "3 rows from vendas table:\n",
      "id\tproductId\tcustomerId\ttimestamp\n",
      "13732\t1\t256\t2022-09-21 04:20:35.985000+00:00\n",
      "4592\t2\t256\t2023-07-22 02:36:14.011000+00:00\n",
      "11980\t8\t256\t2022-05-15 16:41:16.136000+00:00\n",
      "*/\u001b[0m\n",
      "Thought:\u001b[32;1m\u001b[1;3m I should query the customerId and count the number of purchases for each customer.\n",
      "Action: sql_db_query\n",
      "Action Input: SELECT customerId, COUNT(*) as purchases FROM vendas GROUP BY customerId ORDER BY purchases DESC LIMIT 10\u001b[0m\n",
      "Observation: \u001b[36;1m\u001b[1;3m[(346, 23), (1813, 22), (1970, 21), (1577, 20), (1028, 20), (657, 20), (357, 20), (1889, 19), (913, 19), (912, 19)]\u001b[0m\n",
      "Thought:\u001b[32;1m\u001b[1;3m I now know the final answer\n",
      "Final Answer: Customer 346 has the most purchases with 23.\u001b[0m\n",
      "\n",
      "\u001b[1m> Finished chain.\u001b[0m\n"
     ]
    },
    {
     "data": {
      "text/plain": [
       "'Customer 346 has the most purchases with 23.'"
      ]
     },
     "execution_count": 9,
     "metadata": {},
     "output_type": "execute_result"
    }
   ],
   "source": [
    "agent_executor.run(\"What is the name of customer with more purcheses, and why?\")\n",
    "# agent_executor.run(\"What is email of Jorge Gerhold?\")"
   ]
  }
 ],
 "metadata": {
  "kernelspec": {
   "display_name": "Python 3",
   "language": "python",
   "name": "python3"
  },
  "language_info": {
   "codemirror_mode": {
    "name": "ipython",
    "version": 3
   },
   "file_extension": ".py",
   "mimetype": "text/x-python",
   "name": "python",
   "nbconvert_exporter": "python",
   "pygments_lexer": "ipython3",
   "version": "3.11.4"
  },
  "orig_nbformat": 4
 },
 "nbformat": 4,
 "nbformat_minor": 2
}
