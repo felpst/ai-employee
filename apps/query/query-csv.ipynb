{
 "cells": [
  {
   "cell_type": "markdown",
   "metadata": {},
   "source": [
    "# Checklist\n",
    "- Criar um agent com Python\n",
    "- Fazer perguntas para um CSV\n",
    "- conectar um banco no bigquery\n",
    "- Fazer uma pergunta que relacionada um dado do CSV com o bigquery"
   ]
  },
  {
   "cell_type": "code",
   "execution_count": 1,
   "metadata": {},
   "outputs": [],
   "source": [
    "from dotenv import load_dotenv\n",
    "load_dotenv()\n",
    "\n",
    "from langchain.agents import create_csv_agent\n",
    "from langchain.llms import OpenAI\n",
    "from langchain.chat_models import ChatOpenAI\n",
    "from langchain.agents.agent_types import AgentType"
   ]
  },
  {
   "cell_type": "code",
   "execution_count": 6,
   "metadata": {},
   "outputs": [],
   "source": [
    "agent = create_csv_agent(\n",
    "    OpenAI(temperature=0),\n",
    "    [\"clientes.csv\", \"produtos.csv\", \"vendas.csv\"],\n",
    "    verbose=True,\n",
    "    agent_type=AgentType.ZERO_SHOT_REACT_DESCRIPTION,\n",
    ")"
   ]
  },
  {
   "cell_type": "code",
   "execution_count": 8,
   "metadata": {},
   "outputs": [
    {
     "name": "stdout",
     "output_type": "stream",
     "text": [
      "\n",
      "\n",
      "\u001b[1m> Entering new AgentExecutor chain...\u001b[0m\n",
      "\u001b[32;1m\u001b[1;3mThought: I need to find the customer with the most purchases.\n",
      "Action: python_repl_ast\n",
      "Action Input: df3.groupby('customerId').count()['id'].sort_values(ascending=False).head(1)\u001b[0m\n",
      "Observation: \u001b[36;1m\u001b[1;3mcustomerId\n",
      "346    23\n",
      "Name: id, dtype: int64\u001b[0m\n",
      "Thought:\u001b[32;1m\u001b[1;3m I need to find the customer with the most purchases.\n",
      "Action: python_repl_ast\n",
      "Action Input: df1[df1['id'] == 346]\u001b[0m\n",
      "Observation: \u001b[36;1m\u001b[1;3m      id                  name                email              address\n",
      "345  346  Dolores Jast-Lebsack  Zachary95@yahoo.com  6067 Treutel Valley\u001b[0m\n",
      "Thought:\u001b[32;1m\u001b[1;3m I now know the final answer\n",
      "Final Answer: Dolores Jast-Lebsack is our best customer, with email Zachary95@yahoo.com, because they have the most purchases.\u001b[0m\n",
      "\n",
      "\u001b[1m> Finished chain.\u001b[0m\n"
     ]
    },
    {
     "data": {
      "text/plain": [
       "'Dolores Jast-Lebsack is our best customer, with email Zachary95@yahoo.com, because they have the most purchases.'"
      ]
     },
     "execution_count": 8,
     "metadata": {},
     "output_type": "execute_result"
    }
   ],
   "source": [
    "agent.run(\"What is the name and email of our best customer, and why?\")"
   ]
  }
 ],
 "metadata": {
  "kernelspec": {
   "display_name": "Python 3",
   "language": "python",
   "name": "python3"
  },
  "language_info": {
   "codemirror_mode": {
    "name": "ipython",
    "version": 3
   },
   "file_extension": ".py",
   "mimetype": "text/x-python",
   "name": "python",
   "nbconvert_exporter": "python",
   "pygments_lexer": "ipython3",
   "version": "3.11.4"
  },
  "orig_nbformat": 4
 },
 "nbformat": 4,
 "nbformat_minor": 2
}
