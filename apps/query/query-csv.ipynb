{
 "cells": [
  {
   "cell_type": "markdown",
   "metadata": {},
   "source": [
    "# Checklist\n",
    "- Criar um agent com Python\n",
    "- Fazer perguntas para um CSV\n",
    "- conectar um banco no bigquery\n",
    "- Fazer uma pergunta que relacionada um dado do CSV com o bigquery"
   ]
  },
  {
   "cell_type": "code",
   "execution_count": 1,
   "metadata": {},
   "outputs": [],
   "source": [
    "from dotenv import load_dotenv\n",
    "load_dotenv()\n",
    "\n",
    "from langchain.agents import create_csv_agent\n",
    "from langchain.llms import OpenAI\n",
    "from langchain.chat_models import ChatOpenAI\n",
    "from langchain.agents.agent_types import AgentType"
   ]
  },
  {
   "cell_type": "code",
   "execution_count": 2,
   "metadata": {},
   "outputs": [],
   "source": [
    "agent = create_csv_agent(\n",
    "    OpenAI(temperature=0),\n",
    "    [\"clientes.csv\", \"produtos.csv\", \"vendas.csv\"],\n",
    "    verbose=True,\n",
    "    agent_type=AgentType.ZERO_SHOT_REACT_DESCRIPTION,\n",
    ")"
   ]
  },
  {
   "cell_type": "code",
   "execution_count": 3,
   "metadata": {},
   "outputs": [
    {
     "name": "stdout",
     "output_type": "stream",
     "text": [
      "\n",
      "\n",
      "\u001b[1m> Entering new AgentExecutor chain...\u001b[0m\n",
      "\u001b[32;1m\u001b[1;3mThought: I need to join the three dataframes and then group by customerId to get the customer with more purchases.\n",
      "Action: python_repl_ast\n",
      "Action Input: df1.merge(df2, on='id').merge(df3, on='id').groupby('customerId').count()\u001b[0m\n",
      "Observation: \u001b[36;1m\u001b[1;3m            id  name_x  email  address  name_y  category  productId  timestamp\n",
      "customerId                                                                    \n",
      "175          1       1      1        1       1         1          1          1\n",
      "302          1       1      1        1       1         1          1          1\n",
      "390          1       1      1        1       1         1          1          1\n",
      "471          1       1      1        1       1         1          1          1\n",
      "488          1       1      1        1       1         1          1          1\n",
      "525          1       1      1        1       1         1          1          1\n",
      "619          1       1      1        1       1         1          1          1\n",
      "685          1       1      1        1       1         1          1          1\n",
      "697          1       1      1        1       1         1          1          1\n",
      "1042         1       1      1        1       1         1          1          1\n",
      "1052         1       1      1        1       1         1          1          1\n",
      "1094         1       1      1        1       1         1          1          1\n",
      "1209         1       1      1        1       1         1          1          1\n",
      "1251         1       1      1        1       1         1          1          1\n",
      "1407         1       1      1        1       1         1          1          1\n",
      "1454         1       1      1        1       1         1          1          1\n",
      "1475         1       1      1        1       1         1          1          1\n",
      "1666         1       1      1        1       1         1          1          1\n",
      "1770         1       1      1        1       1         1          1          1\n",
      "1888         1       1      1        1       1         1          1          1\u001b[0m\n",
      "Thought:\u001b[32;1m\u001b[1;3m I need to find the customerId with the highest count.\n",
      "Action: python_repl_ast\n",
      "Action Input: df1.merge(df2, on='id').merge(df3, on='id').groupby('customerId').count().sort_values('id', ascending=False).head(1)\u001b[0m\n",
      "Observation: \u001b[36;1m\u001b[1;3m            id  name_x  email  address  name_y  category  productId  timestamp\n",
      "customerId                                                                    \n",
      "175          1       1      1        1       1         1          1          1\u001b[0m\n",
      "Thought:\u001b[32;1m\u001b[1;3m I need to find the customer with customerId 175.\n",
      "Action: python_repl_ast\n",
      "Action Input: df1[df1['id'] == 175]\u001b[0m\n",
      "Observation: \u001b[36;1m\u001b[1;3m      id          name                email               address\n",
      "174  175  Hannah Hayes  Jazmyne67@yahoo.com  47384 Prohaska Drive\u001b[0m\n",
      "Thought:\u001b[32;1m\u001b[1;3m I now know the final answer.\n",
      "Final Answer: The customer with more purchases is Hannah Hayes with email Jazmyne67@yahoo.com.\u001b[0m\n",
      "\n",
      "\u001b[1m> Finished chain.\u001b[0m\n"
     ]
    },
    {
     "data": {
      "text/plain": [
       "'The customer with more purchases is Hannah Hayes with email Jazmyne67@yahoo.com.'"
      ]
     },
     "execution_count": 3,
     "metadata": {},
     "output_type": "execute_result"
    }
   ],
   "source": [
    "# agent.run(\"What is the email of Pearl Johnston?\")\n",
    "agent.run(\"What is the name and email of customer with more purchases?\")\n",
    "# agent.run(\"What is the name and email of our best customer, and why?\")"
   ]
  }
 ],
 "metadata": {
  "kernelspec": {
   "display_name": "Python 3",
   "language": "python",
   "name": "python3"
  },
  "language_info": {
   "codemirror_mode": {
    "name": "ipython",
    "version": 3
   },
   "file_extension": ".py",
   "mimetype": "text/x-python",
   "name": "python",
   "nbconvert_exporter": "python",
   "pygments_lexer": "ipython3",
   "version": "3.11.4"
  },
  "orig_nbformat": 4
 },
 "nbformat": 4,
 "nbformat_minor": 2
}
